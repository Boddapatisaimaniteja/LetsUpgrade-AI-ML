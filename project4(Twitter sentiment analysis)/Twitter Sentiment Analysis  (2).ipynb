{
 "cells": [
  {
   "cell_type": "raw",
   "metadata": {},
   "source": [
    " collect text data using Twitter API."
   ]
  },
  {
   "cell_type": "code",
   "execution_count": null,
   "metadata": {},
   "outputs": [],
   "source": [
    "!pip install tweepy"
   ]
  },
  {
   "cell_type": "code",
   "execution_count": null,
   "metadata": {},
   "outputs": [],
   "source": [
    "!pip install openpyxl"
   ]
  },
  {
   "cell_type": "code",
   "execution_count": null,
   "metadata": {},
   "outputs": [],
   "source": [
    "import numpy as np\n",
    "import pandas as pd\n",
    "import tweepy\n",
    "import json\n",
    "from tweepy import OAuthHandler"
   ]
  },
  {
   "cell_type": "code",
   "execution_count": 48,
   "metadata": {},
   "outputs": [],
   "source": [
    "#keys from api of twitter\n",
    "consumer_key = \"GzNVgro4qhZQ08MP18Z81IoKt\"\n",
    "consumer_secret = \"Plb9WeHzKogpnESTXTcpSKWgMyzPNK3dmAGLlxOCCE5FO5dJMj\"\n",
    "access_token = \"1323193271271612417-vOgUkAmMKJe2EObkOSnCri8XDWRJKD\"\n",
    "access_token_secret = \"qFrd8QhnTWRi12cvXYw4IYiQYDpaQiItKRAiCNqPixk6M\""
   ]
  },
  {
   "cell_type": "code",
   "execution_count": 49,
   "metadata": {},
   "outputs": [],
   "source": [
    "#contacting api to get info from tweeter\n",
    "auth = tweepy.OAuthHandler( consumer_key , consumer_secret )\n",
    "auth.set_access_token( access_token , access_token_secret )\n",
    "api = tweepy.API(auth)"
   ]
  },
  {
   "cell_type": "code",
   "execution_count": 50,
   "metadata": {},
   "outputs": [],
   "source": [
    "#query to be searched and extract info\n",
    "query = \"NTR\""
   ]
  },
  {
   "cell_type": "code",
   "execution_count": 51,
   "metadata": {},
   "outputs": [
    {
     "name": "stdout",
     "output_type": "stream",
     "text": [
      "Status(_api=<tweepy.api.API object at 0x000001EFAA8CD588>, _json={'created_at': 'Mon Nov 02 10:27:54 +0000 2020', 'id': 1323210217954291712, 'id_str': '1323210217954291712', 'full_text': 'Happy birthday angel ❤️❤️ @vijayprasadu @kaleyan_pawan @devudu_ntr @satyach78459401 @alluvirat18 @seshu33385 @sekhar_rcfanboy #SarkaruVaariPaata #MaheshBabu @urstrulyMahesh https://t.co/1JUJsmwsXu', 'truncated': False, 'display_text_range': [0, 172], 'entities': {'hashtags': [{'text': 'SarkaruVaariPaata', 'indices': [126, 144]}, {'text': 'MaheshBabu', 'indices': [145, 156]}], 'symbols': [], 'user_mentions': [{'screen_name': 'vijayprasadu', 'name': 'Vijay🚶alone Boy', 'id': 1310168544269672454, 'id_str': '1310168544269672454', 'indices': [26, 39]}, {'screen_name': 'kaleyan_pawan', 'name': 'Akshaya naidu (sam fan)😘😘', 'id': 1300755057512603654, 'id_str': '1300755057512603654', 'indices': [40, 54]}, {'screen_name': 'devudu_ntr', 'name': 'NTR Na Devudu', 'id': 1293449414095208448, 'id_str': '1293449414095208448', 'indices': [55, 66]}, {'screen_name': 'satyach78459401', 'name': 'Satya Chowdary💙', 'id': 1280526072447029248, 'id_str': '1280526072447029248', 'indices': [67, 83]}, {'screen_name': 'alluvirat18', 'name': 'ALLU ARJUN FAN', 'id': 1308566241125126144, 'id_str': '1308566241125126144', 'indices': [84, 96]}, {'screen_name': 'seshu33385', 'name': 'Seshukumar Maruboina', 'id': 781527118467309568, 'id_str': '781527118467309568', 'indices': [97, 108]}, {'screen_name': 'sekhar_rcfanboy', 'name': '_💖sekhar💖 common man🚶', 'id': 1276784257059282944, 'id_str': '1276784257059282944', 'indices': [109, 125]}, {'screen_name': 'urstrulyMahesh', 'name': 'Mahesh Babu', 'id': 129786468, 'id_str': '129786468', 'indices': [157, 172]}], 'urls': [], 'media': [{'id': 1323210182747328513, 'id_str': '1323210182747328513', 'indices': [173, 196], 'media_url': 'http://pbs.twimg.com/media/Elz8ponVkAEJS64.jpg', 'media_url_https': 'https://pbs.twimg.com/media/Elz8ponVkAEJS64.jpg', 'url': 'https://t.co/1JUJsmwsXu', 'display_url': 'pic.twitter.com/1JUJsmwsXu', 'expanded_url': 'https://twitter.com/Kittuishere4MB/status/1323210217954291712/photo/1', 'type': 'photo', 'sizes': {'large': {'w': 730, 'h': 1024, 'resize': 'fit'}, 'thumb': {'w': 150, 'h': 150, 'resize': 'crop'}, 'medium': {'w': 730, 'h': 1024, 'resize': 'fit'}, 'small': {'w': 485, 'h': 680, 'resize': 'fit'}}}]}, 'extended_entities': {'media': [{'id': 1323210182747328513, 'id_str': '1323210182747328513', 'indices': [173, 196], 'media_url': 'http://pbs.twimg.com/media/Elz8ponVkAEJS64.jpg', 'media_url_https': 'https://pbs.twimg.com/media/Elz8ponVkAEJS64.jpg', 'url': 'https://t.co/1JUJsmwsXu', 'display_url': 'pic.twitter.com/1JUJsmwsXu', 'expanded_url': 'https://twitter.com/Kittuishere4MB/status/1323210217954291712/photo/1', 'type': 'photo', 'sizes': {'large': {'w': 730, 'h': 1024, 'resize': 'fit'}, 'thumb': {'w': 150, 'h': 150, 'resize': 'crop'}, 'medium': {'w': 730, 'h': 1024, 'resize': 'fit'}, 'small': {'w': 485, 'h': 680, 'resize': 'fit'}}}]}, 'metadata': {'iso_language_code': 'en', 'result_type': 'recent'}, 'source': '<a href=\"http://twitter.com/download/android\" rel=\"nofollow\">Twitter for Android</a>', 'in_reply_to_status_id': None, 'in_reply_to_status_id_str': None, 'in_reply_to_user_id': None, 'in_reply_to_user_id_str': None, 'in_reply_to_screen_name': None, 'user': {'id': 1300810672582713344, 'id_str': '1300810672582713344', 'name': '😎 Heart_Throber_kittu_Dhfm 😍', 'screen_name': 'Kittuishere4MB', 'location': '', 'description': 'In movies i like all heros , but devotee of mahesh babu, #MI Fan , MSD lover & my motive is to spread love to everyone and make everyone happy..Respect Woman 🙏', 'url': None, 'entities': {'description': {'urls': []}}, 'protected': False, 'followers_count': 1035, 'friends_count': 1604, 'listed_count': 0, 'created_at': 'Tue Sep 01 15:00:19 +0000 2020', 'favourites_count': 445, 'utc_offset': None, 'time_zone': None, 'geo_enabled': False, 'verified': False, 'statuses_count': 3733, 'lang': None, 'contributors_enabled': False, 'is_translator': False, 'is_translation_enabled': False, 'profile_background_color': 'F5F8FA', 'profile_background_image_url': None, 'profile_background_image_url_https': None, 'profile_background_tile': False, 'profile_image_url': 'http://pbs.twimg.com/profile_images/1309030190014754816/grZPM_5V_normal.jpg', 'profile_image_url_https': 'https://pbs.twimg.com/profile_images/1309030190014754816/grZPM_5V_normal.jpg', 'profile_banner_url': 'https://pbs.twimg.com/profile_banners/1300810672582713344/1601319890', 'profile_link_color': '1DA1F2', 'profile_sidebar_border_color': 'C0DEED', 'profile_sidebar_fill_color': 'DDEEF6', 'profile_text_color': '333333', 'profile_use_background_image': True, 'has_extended_profile': False, 'default_profile': True, 'default_profile_image': False, 'following': False, 'follow_request_sent': False, 'notifications': False, 'translator_type': 'none'}, 'geo': None, 'coordinates': None, 'place': None, 'contributors': None, 'is_quote_status': False, 'retweet_count': 1, 'favorite_count': 1, 'favorited': False, 'retweeted': False, 'possibly_sensitive': False, 'lang': 'en'}, created_at=datetime.datetime(2020, 11, 2, 10, 27, 54), id=1323210217954291712, id_str='1323210217954291712', full_text='Happy birthday angel ❤️❤️ @vijayprasadu @kaleyan_pawan @devudu_ntr @satyach78459401 @alluvirat18 @seshu33385 @sekhar_rcfanboy #SarkaruVaariPaata #MaheshBabu @urstrulyMahesh https://t.co/1JUJsmwsXu', truncated=False, display_text_range=[0, 172], entities={'hashtags': [{'text': 'SarkaruVaariPaata', 'indices': [126, 144]}, {'text': 'MaheshBabu', 'indices': [145, 156]}], 'symbols': [], 'user_mentions': [{'screen_name': 'vijayprasadu', 'name': 'Vijay🚶alone Boy', 'id': 1310168544269672454, 'id_str': '1310168544269672454', 'indices': [26, 39]}, {'screen_name': 'kaleyan_pawan', 'name': 'Akshaya naidu (sam fan)😘😘', 'id': 1300755057512603654, 'id_str': '1300755057512603654', 'indices': [40, 54]}, {'screen_name': 'devudu_ntr', 'name': 'NTR Na Devudu', 'id': 1293449414095208448, 'id_str': '1293449414095208448', 'indices': [55, 66]}, {'screen_name': 'satyach78459401', 'name': 'Satya Chowdary💙', 'id': 1280526072447029248, 'id_str': '1280526072447029248', 'indices': [67, 83]}, {'screen_name': 'alluvirat18', 'name': 'ALLU ARJUN FAN', 'id': 1308566241125126144, 'id_str': '1308566241125126144', 'indices': [84, 96]}, {'screen_name': 'seshu33385', 'name': 'Seshukumar Maruboina', 'id': 781527118467309568, 'id_str': '781527118467309568', 'indices': [97, 108]}, {'screen_name': 'sekhar_rcfanboy', 'name': '_💖sekhar💖 common man🚶', 'id': 1276784257059282944, 'id_str': '1276784257059282944', 'indices': [109, 125]}, {'screen_name': 'urstrulyMahesh', 'name': 'Mahesh Babu', 'id': 129786468, 'id_str': '129786468', 'indices': [157, 172]}], 'urls': [], 'media': [{'id': 1323210182747328513, 'id_str': '1323210182747328513', 'indices': [173, 196], 'media_url': 'http://pbs.twimg.com/media/Elz8ponVkAEJS64.jpg', 'media_url_https': 'https://pbs.twimg.com/media/Elz8ponVkAEJS64.jpg', 'url': 'https://t.co/1JUJsmwsXu', 'display_url': 'pic.twitter.com/1JUJsmwsXu', 'expanded_url': 'https://twitter.com/Kittuishere4MB/status/1323210217954291712/photo/1', 'type': 'photo', 'sizes': {'large': {'w': 730, 'h': 1024, 'resize': 'fit'}, 'thumb': {'w': 150, 'h': 150, 'resize': 'crop'}, 'medium': {'w': 730, 'h': 1024, 'resize': 'fit'}, 'small': {'w': 485, 'h': 680, 'resize': 'fit'}}}]}, extended_entities={'media': [{'id': 1323210182747328513, 'id_str': '1323210182747328513', 'indices': [173, 196], 'media_url': 'http://pbs.twimg.com/media/Elz8ponVkAEJS64.jpg', 'media_url_https': 'https://pbs.twimg.com/media/Elz8ponVkAEJS64.jpg', 'url': 'https://t.co/1JUJsmwsXu', 'display_url': 'pic.twitter.com/1JUJsmwsXu', 'expanded_url': 'https://twitter.com/Kittuishere4MB/status/1323210217954291712/photo/1', 'type': 'photo', 'sizes': {'large': {'w': 730, 'h': 1024, 'resize': 'fit'}, 'thumb': {'w': 150, 'h': 150, 'resize': 'crop'}, 'medium': {'w': 730, 'h': 1024, 'resize': 'fit'}, 'small': {'w': 485, 'h': 680, 'resize': 'fit'}}}]}, metadata={'iso_language_code': 'en', 'result_type': 'recent'}, source='Twitter for Android', source_url='http://twitter.com/download/android', in_reply_to_status_id=None, in_reply_to_status_id_str=None, in_reply_to_user_id=None, in_reply_to_user_id_str=None, in_reply_to_screen_name=None, author=User(_api=<tweepy.api.API object at 0x000001EFAA8CD588>, _json={'id': 1300810672582713344, 'id_str': '1300810672582713344', 'name': '😎 Heart_Throber_kittu_Dhfm 😍', 'screen_name': 'Kittuishere4MB', 'location': '', 'description': 'In movies i like all heros , but devotee of mahesh babu, #MI Fan , MSD lover & my motive is to spread love to everyone and make everyone happy..Respect Woman 🙏', 'url': None, 'entities': {'description': {'urls': []}}, 'protected': False, 'followers_count': 1035, 'friends_count': 1604, 'listed_count': 0, 'created_at': 'Tue Sep 01 15:00:19 +0000 2020', 'favourites_count': 445, 'utc_offset': None, 'time_zone': None, 'geo_enabled': False, 'verified': False, 'statuses_count': 3733, 'lang': None, 'contributors_enabled': False, 'is_translator': False, 'is_translation_enabled': False, 'profile_background_color': 'F5F8FA', 'profile_background_image_url': None, 'profile_background_image_url_https': None, 'profile_background_tile': False, 'profile_image_url': 'http://pbs.twimg.com/profile_images/1309030190014754816/grZPM_5V_normal.jpg', 'profile_image_url_https': 'https://pbs.twimg.com/profile_images/1309030190014754816/grZPM_5V_normal.jpg', 'profile_banner_url': 'https://pbs.twimg.com/profile_banners/1300810672582713344/1601319890', 'profile_link_color': '1DA1F2', 'profile_sidebar_border_color': 'C0DEED', 'profile_sidebar_fill_color': 'DDEEF6', 'profile_text_color': '333333', 'profile_use_background_image': True, 'has_extended_profile': False, 'default_profile': True, 'default_profile_image': False, 'following': False, 'follow_request_sent': False, 'notifications': False, 'translator_type': 'none'}, id=1300810672582713344, id_str='1300810672582713344', name='😎 Heart_Throber_kittu_Dhfm 😍', screen_name='Kittuishere4MB', location='', description='In movies i like all heros , but devotee of mahesh babu, #MI Fan , MSD lover & my motive is to spread love to everyone and make everyone happy..Respect Woman 🙏', url=None, entities={'description': {'urls': []}}, protected=False, followers_count=1035, friends_count=1604, listed_count=0, created_at=datetime.datetime(2020, 9, 1, 15, 0, 19), favourites_count=445, utc_offset=None, time_zone=None, geo_enabled=False, verified=False, statuses_count=3733, lang=None, contributors_enabled=False, is_translator=False, is_translation_enabled=False, profile_background_color='F5F8FA', profile_background_image_url=None, profile_background_image_url_https=None, profile_background_tile=False, profile_image_url='http://pbs.twimg.com/profile_images/1309030190014754816/grZPM_5V_normal.jpg', profile_image_url_https='https://pbs.twimg.com/profile_images/1309030190014754816/grZPM_5V_normal.jpg', profile_banner_url='https://pbs.twimg.com/profile_banners/1300810672582713344/1601319890', profile_link_color='1DA1F2', profile_sidebar_border_color='C0DEED', profile_sidebar_fill_color='DDEEF6', profile_text_color='333333', profile_use_background_image=True, has_extended_profile=False, default_profile=True, default_profile_image=False, following=False, follow_request_sent=False, notifications=False, translator_type='none'), user=User(_api=<tweepy.api.API object at 0x000001EFAA8CD588>, _json={'id': 1300810672582713344, 'id_str': '1300810672582713344', 'name': '😎 Heart_Throber_kittu_Dhfm 😍', 'screen_name': 'Kittuishere4MB', 'location': '', 'description': 'In movies i like all heros , but devotee of mahesh babu, #MI Fan , MSD lover & my motive is to spread love to everyone and make everyone happy..Respect Woman 🙏', 'url': None, 'entities': {'description': {'urls': []}}, 'protected': False, 'followers_count': 1035, 'friends_count': 1604, 'listed_count': 0, 'created_at': 'Tue Sep 01 15:00:19 +0000 2020', 'favourites_count': 445, 'utc_offset': None, 'time_zone': None, 'geo_enabled': False, 'verified': False, 'statuses_count': 3733, 'lang': None, 'contributors_enabled': False, 'is_translator': False, 'is_translation_enabled': False, 'profile_background_color': 'F5F8FA', 'profile_background_image_url': None, 'profile_background_image_url_https': None, 'profile_background_tile': False, 'profile_image_url': 'http://pbs.twimg.com/profile_images/1309030190014754816/grZPM_5V_normal.jpg', 'profile_image_url_https': 'https://pbs.twimg.com/profile_images/1309030190014754816/grZPM_5V_normal.jpg', 'profile_banner_url': 'https://pbs.twimg.com/profile_banners/1300810672582713344/1601319890', 'profile_link_color': '1DA1F2', 'profile_sidebar_border_color': 'C0DEED', 'profile_sidebar_fill_color': 'DDEEF6', 'profile_text_color': '333333', 'profile_use_background_image': True, 'has_extended_profile': False, 'default_profile': True, 'default_profile_image': False, 'following': False, 'follow_request_sent': False, 'notifications': False, 'translator_type': 'none'}, id=1300810672582713344, id_str='1300810672582713344', name='😎 Heart_Throber_kittu_Dhfm 😍', screen_name='Kittuishere4MB', location='', description='In movies i like all heros , but devotee of mahesh babu, #MI Fan , MSD lover & my motive is to spread love to everyone and make everyone happy..Respect Woman 🙏', url=None, entities={'description': {'urls': []}}, protected=False, followers_count=1035, friends_count=1604, listed_count=0, created_at=datetime.datetime(2020, 9, 1, 15, 0, 19), favourites_count=445, utc_offset=None, time_zone=None, geo_enabled=False, verified=False, statuses_count=3733, lang=None, contributors_enabled=False, is_translator=False, is_translation_enabled=False, profile_background_color='F5F8FA', profile_background_image_url=None, profile_background_image_url_https=None, profile_background_tile=False, profile_image_url='http://pbs.twimg.com/profile_images/1309030190014754816/grZPM_5V_normal.jpg', profile_image_url_https='https://pbs.twimg.com/profile_images/1309030190014754816/grZPM_5V_normal.jpg', profile_banner_url='https://pbs.twimg.com/profile_banners/1300810672582713344/1601319890', profile_link_color='1DA1F2', profile_sidebar_border_color='C0DEED', profile_sidebar_fill_color='DDEEF6', profile_text_color='333333', profile_use_background_image=True, has_extended_profile=False, default_profile=True, default_profile_image=False, following=False, follow_request_sent=False, notifications=False, translator_type='none'), geo=None, coordinates=None, place=None, contributors=None, is_quote_status=False, retweet_count=1, favorite_count=1, favorited=False, retweeted=False, possibly_sensitive=False, lang='en') \n",
      "\n",
      ".....................................\n",
      "\n",
      "Status(_api=<tweepy.api.API object at 0x000001EFAA8CD588>, _json={'created_at': 'Mon Nov 02 10:27:27 +0000 2020', 'id': 1323210102057234433, 'id_str': '1323210102057234433', 'full_text': 'With CM KCR becoming full time razakar and also announced Islamic centre.. Mosque near Secretariat.. \\nBlah blah.. Rajamouli now wants to give the much needed support to him by projecting Kumaram Bheem as a Muslim.. He thinks he can fool us by casting NTR jr and charan..', 'truncated': False, 'display_text_range': [0, 270], 'entities': {'hashtags': [], 'symbols': [], 'user_mentions': [], 'urls': []}, 'metadata': {'iso_language_code': 'en', 'result_type': 'recent'}, 'source': '<a href=\"http://twitter.com/download/android\" rel=\"nofollow\">Twitter for Android</a>', 'in_reply_to_status_id': None, 'in_reply_to_status_id_str': None, 'in_reply_to_user_id': None, 'in_reply_to_user_id_str': None, 'in_reply_to_screen_name': None, 'user': {'id': 1212830550890672128, 'id_str': '1212830550890672128', 'name': 'Sanatani Thakur', 'screen_name': 'SanggitaT', 'location': ' India', 'description': 'volunteer at artofliving.. yoga instructor.. emergency health care coordinator.. proud Sanatani.. RSS', 'url': None, 'entities': {'description': {'urls': []}}, 'protected': False, 'followers_count': 2798, 'friends_count': 538, 'listed_count': 2, 'created_at': 'Thu Jan 02 20:18:41 +0000 2020', 'favourites_count': 12233, 'utc_offset': None, 'time_zone': None, 'geo_enabled': False, 'verified': False, 'statuses_count': 4847, 'lang': None, 'contributors_enabled': False, 'is_translator': False, 'is_translation_enabled': False, 'profile_background_color': 'F5F8FA', 'profile_background_image_url': None, 'profile_background_image_url_https': None, 'profile_background_tile': False, 'profile_image_url': 'http://pbs.twimg.com/profile_images/1321184954198323201/rDwU6qEX_normal.jpg', 'profile_image_url_https': 'https://pbs.twimg.com/profile_images/1321184954198323201/rDwU6qEX_normal.jpg', 'profile_banner_url': 'https://pbs.twimg.com/profile_banners/1212830550890672128/1600634116', 'profile_link_color': '1DA1F2', 'profile_sidebar_border_color': 'C0DEED', 'profile_sidebar_fill_color': 'DDEEF6', 'profile_text_color': '333333', 'profile_use_background_image': True, 'has_extended_profile': False, 'default_profile': True, 'default_profile_image': False, 'following': False, 'follow_request_sent': False, 'notifications': False, 'translator_type': 'none'}, 'geo': None, 'coordinates': None, 'place': None, 'contributors': None, 'is_quote_status': False, 'retweet_count': 0, 'favorite_count': 0, 'favorited': False, 'retweeted': False, 'lang': 'en'}, created_at=datetime.datetime(2020, 11, 2, 10, 27, 27), id=1323210102057234433, id_str='1323210102057234433', full_text='With CM KCR becoming full time razakar and also announced Islamic centre.. Mosque near Secretariat.. \\nBlah blah.. Rajamouli now wants to give the much needed support to him by projecting Kumaram Bheem as a Muslim.. He thinks he can fool us by casting NTR jr and charan..', truncated=False, display_text_range=[0, 270], entities={'hashtags': [], 'symbols': [], 'user_mentions': [], 'urls': []}, metadata={'iso_language_code': 'en', 'result_type': 'recent'}, source='Twitter for Android', source_url='http://twitter.com/download/android', in_reply_to_status_id=None, in_reply_to_status_id_str=None, in_reply_to_user_id=None, in_reply_to_user_id_str=None, in_reply_to_screen_name=None, author=User(_api=<tweepy.api.API object at 0x000001EFAA8CD588>, _json={'id': 1212830550890672128, 'id_str': '1212830550890672128', 'name': 'Sanatani Thakur', 'screen_name': 'SanggitaT', 'location': ' India', 'description': 'volunteer at artofliving.. yoga instructor.. emergency health care coordinator.. proud Sanatani.. RSS', 'url': None, 'entities': {'description': {'urls': []}}, 'protected': False, 'followers_count': 2798, 'friends_count': 538, 'listed_count': 2, 'created_at': 'Thu Jan 02 20:18:41 +0000 2020', 'favourites_count': 12233, 'utc_offset': None, 'time_zone': None, 'geo_enabled': False, 'verified': False, 'statuses_count': 4847, 'lang': None, 'contributors_enabled': False, 'is_translator': False, 'is_translation_enabled': False, 'profile_background_color': 'F5F8FA', 'profile_background_image_url': None, 'profile_background_image_url_https': None, 'profile_background_tile': False, 'profile_image_url': 'http://pbs.twimg.com/profile_images/1321184954198323201/rDwU6qEX_normal.jpg', 'profile_image_url_https': 'https://pbs.twimg.com/profile_images/1321184954198323201/rDwU6qEX_normal.jpg', 'profile_banner_url': 'https://pbs.twimg.com/profile_banners/1212830550890672128/1600634116', 'profile_link_color': '1DA1F2', 'profile_sidebar_border_color': 'C0DEED', 'profile_sidebar_fill_color': 'DDEEF6', 'profile_text_color': '333333', 'profile_use_background_image': True, 'has_extended_profile': False, 'default_profile': True, 'default_profile_image': False, 'following': False, 'follow_request_sent': False, 'notifications': False, 'translator_type': 'none'}, id=1212830550890672128, id_str='1212830550890672128', name='Sanatani Thakur', screen_name='SanggitaT', location=' India', description='volunteer at artofliving.. yoga instructor.. emergency health care coordinator.. proud Sanatani.. RSS', url=None, entities={'description': {'urls': []}}, protected=False, followers_count=2798, friends_count=538, listed_count=2, created_at=datetime.datetime(2020, 1, 2, 20, 18, 41), favourites_count=12233, utc_offset=None, time_zone=None, geo_enabled=False, verified=False, statuses_count=4847, lang=None, contributors_enabled=False, is_translator=False, is_translation_enabled=False, profile_background_color='F5F8FA', profile_background_image_url=None, profile_background_image_url_https=None, profile_background_tile=False, profile_image_url='http://pbs.twimg.com/profile_images/1321184954198323201/rDwU6qEX_normal.jpg', profile_image_url_https='https://pbs.twimg.com/profile_images/1321184954198323201/rDwU6qEX_normal.jpg', profile_banner_url='https://pbs.twimg.com/profile_banners/1212830550890672128/1600634116', profile_link_color='1DA1F2', profile_sidebar_border_color='C0DEED', profile_sidebar_fill_color='DDEEF6', profile_text_color='333333', profile_use_background_image=True, has_extended_profile=False, default_profile=True, default_profile_image=False, following=False, follow_request_sent=False, notifications=False, translator_type='none'), user=User(_api=<tweepy.api.API object at 0x000001EFAA8CD588>, _json={'id': 1212830550890672128, 'id_str': '1212830550890672128', 'name': 'Sanatani Thakur', 'screen_name': 'SanggitaT', 'location': ' India', 'description': 'volunteer at artofliving.. yoga instructor.. emergency health care coordinator.. proud Sanatani.. RSS', 'url': None, 'entities': {'description': {'urls': []}}, 'protected': False, 'followers_count': 2798, 'friends_count': 538, 'listed_count': 2, 'created_at': 'Thu Jan 02 20:18:41 +0000 2020', 'favourites_count': 12233, 'utc_offset': None, 'time_zone': None, 'geo_enabled': False, 'verified': False, 'statuses_count': 4847, 'lang': None, 'contributors_enabled': False, 'is_translator': False, 'is_translation_enabled': False, 'profile_background_color': 'F5F8FA', 'profile_background_image_url': None, 'profile_background_image_url_https': None, 'profile_background_tile': False, 'profile_image_url': 'http://pbs.twimg.com/profile_images/1321184954198323201/rDwU6qEX_normal.jpg', 'profile_image_url_https': 'https://pbs.twimg.com/profile_images/1321184954198323201/rDwU6qEX_normal.jpg', 'profile_banner_url': 'https://pbs.twimg.com/profile_banners/1212830550890672128/1600634116', 'profile_link_color': '1DA1F2', 'profile_sidebar_border_color': 'C0DEED', 'profile_sidebar_fill_color': 'DDEEF6', 'profile_text_color': '333333', 'profile_use_background_image': True, 'has_extended_profile': False, 'default_profile': True, 'default_profile_image': False, 'following': False, 'follow_request_sent': False, 'notifications': False, 'translator_type': 'none'}, id=1212830550890672128, id_str='1212830550890672128', name='Sanatani Thakur', screen_name='SanggitaT', location=' India', description='volunteer at artofliving.. yoga instructor.. emergency health care coordinator.. proud Sanatani.. RSS', url=None, entities={'description': {'urls': []}}, protected=False, followers_count=2798, friends_count=538, listed_count=2, created_at=datetime.datetime(2020, 1, 2, 20, 18, 41), favourites_count=12233, utc_offset=None, time_zone=None, geo_enabled=False, verified=False, statuses_count=4847, lang=None, contributors_enabled=False, is_translator=False, is_translation_enabled=False, profile_background_color='F5F8FA', profile_background_image_url=None, profile_background_image_url_https=None, profile_background_tile=False, profile_image_url='http://pbs.twimg.com/profile_images/1321184954198323201/rDwU6qEX_normal.jpg', profile_image_url_https='https://pbs.twimg.com/profile_images/1321184954198323201/rDwU6qEX_normal.jpg', profile_banner_url='https://pbs.twimg.com/profile_banners/1212830550890672128/1600634116', profile_link_color='1DA1F2', profile_sidebar_border_color='C0DEED', profile_sidebar_fill_color='DDEEF6', profile_text_color='333333', profile_use_background_image=True, has_extended_profile=False, default_profile=True, default_profile_image=False, following=False, follow_request_sent=False, notifications=False, translator_type='none'), geo=None, coordinates=None, place=None, contributors=None, is_quote_status=False, retweet_count=0, favorite_count=0, favorited=False, retweeted=False, lang='en') \n",
      "\n",
      ".....................................\n",
      "\n",
      "Status(_api=<tweepy.api.API object at 0x000001EFAA8CD588>, _json={'created_at': 'Mon Nov 02 10:26:47 +0000 2020', 'id': 1323209937346990088, 'id_str': '1323209937346990088', 'full_text': '@DaringDevil143 Done 👍', 'truncated': False, 'display_text_range': [16, 22], 'entities': {'hashtags': [], 'symbols': [], 'user_mentions': [{'screen_name': 'DaringDevil143', 'name': 'Dinesh Cherry', 'id': 1276105287724748801, 'id_str': '1276105287724748801', 'indices': [0, 15]}], 'urls': []}, 'metadata': {'iso_language_code': 'en', 'result_type': 'recent'}, 'source': '<a href=\"http://twitter.com/download/android\" rel=\"nofollow\">Twitter for Android</a>', 'in_reply_to_status_id': 1323209093503315968, 'in_reply_to_status_id_str': '1323209093503315968', 'in_reply_to_user_id': 1276105287724748801, 'in_reply_to_user_id_str': '1276105287724748801', 'in_reply_to_screen_name': 'DaringDevil143', 'user': {'id': 1293449414095208448, 'id_str': '1293449414095208448', 'name': 'NTR Na Devudu', 'screen_name': 'devudu_ntr', 'location': 'Visakhapatnam, MVP colony', 'description': 'పుట్టుకతో NTR అభిమాని ఇక్కడ 🦁\\nDie hard fan of @tarak9999 🦁🌊\\n\\n#NTRTwitter\\n#Celebrating20YearsOfNTR\\n#KomaramBheemNTR\\nనా backup a/c @Ntr1Devudu', 'url': None, 'entities': {'description': {'urls': []}}, 'protected': False, 'followers_count': 1118, 'friends_count': 1343, 'listed_count': 0, 'created_at': 'Wed Aug 12 07:29:20 +0000 2020', 'favourites_count': 6223, 'utc_offset': None, 'time_zone': None, 'geo_enabled': False, 'verified': False, 'statuses_count': 8939, 'lang': None, 'contributors_enabled': False, 'is_translator': False, 'is_translation_enabled': False, 'profile_background_color': 'F5F8FA', 'profile_background_image_url': None, 'profile_background_image_url_https': None, 'profile_background_tile': False, 'profile_image_url': 'http://pbs.twimg.com/profile_images/1319182088956829696/hCloUleF_normal.jpg', 'profile_image_url_https': 'https://pbs.twimg.com/profile_images/1319182088956829696/hCloUleF_normal.jpg', 'profile_banner_url': 'https://pbs.twimg.com/profile_banners/1293449414095208448/1603551675', 'profile_link_color': '1DA1F2', 'profile_sidebar_border_color': 'C0DEED', 'profile_sidebar_fill_color': 'DDEEF6', 'profile_text_color': '333333', 'profile_use_background_image': True, 'has_extended_profile': True, 'default_profile': True, 'default_profile_image': False, 'following': False, 'follow_request_sent': False, 'notifications': False, 'translator_type': 'none'}, 'geo': None, 'coordinates': None, 'place': None, 'contributors': None, 'is_quote_status': False, 'retweet_count': 0, 'favorite_count': 1, 'favorited': False, 'retweeted': False, 'lang': 'en'}, created_at=datetime.datetime(2020, 11, 2, 10, 26, 47), id=1323209937346990088, id_str='1323209937346990088', full_text='@DaringDevil143 Done 👍', truncated=False, display_text_range=[16, 22], entities={'hashtags': [], 'symbols': [], 'user_mentions': [{'screen_name': 'DaringDevil143', 'name': 'Dinesh Cherry', 'id': 1276105287724748801, 'id_str': '1276105287724748801', 'indices': [0, 15]}], 'urls': []}, metadata={'iso_language_code': 'en', 'result_type': 'recent'}, source='Twitter for Android', source_url='http://twitter.com/download/android', in_reply_to_status_id=1323209093503315968, in_reply_to_status_id_str='1323209093503315968', in_reply_to_user_id=1276105287724748801, in_reply_to_user_id_str='1276105287724748801', in_reply_to_screen_name='DaringDevil143', author=User(_api=<tweepy.api.API object at 0x000001EFAA8CD588>, _json={'id': 1293449414095208448, 'id_str': '1293449414095208448', 'name': 'NTR Na Devudu', 'screen_name': 'devudu_ntr', 'location': 'Visakhapatnam, MVP colony', 'description': 'పుట్టుకతో NTR అభిమాని ఇక్కడ 🦁\\nDie hard fan of @tarak9999 🦁🌊\\n\\n#NTRTwitter\\n#Celebrating20YearsOfNTR\\n#KomaramBheemNTR\\nనా backup a/c @Ntr1Devudu', 'url': None, 'entities': {'description': {'urls': []}}, 'protected': False, 'followers_count': 1118, 'friends_count': 1343, 'listed_count': 0, 'created_at': 'Wed Aug 12 07:29:20 +0000 2020', 'favourites_count': 6223, 'utc_offset': None, 'time_zone': None, 'geo_enabled': False, 'verified': False, 'statuses_count': 8939, 'lang': None, 'contributors_enabled': False, 'is_translator': False, 'is_translation_enabled': False, 'profile_background_color': 'F5F8FA', 'profile_background_image_url': None, 'profile_background_image_url_https': None, 'profile_background_tile': False, 'profile_image_url': 'http://pbs.twimg.com/profile_images/1319182088956829696/hCloUleF_normal.jpg', 'profile_image_url_https': 'https://pbs.twimg.com/profile_images/1319182088956829696/hCloUleF_normal.jpg', 'profile_banner_url': 'https://pbs.twimg.com/profile_banners/1293449414095208448/1603551675', 'profile_link_color': '1DA1F2', 'profile_sidebar_border_color': 'C0DEED', 'profile_sidebar_fill_color': 'DDEEF6', 'profile_text_color': '333333', 'profile_use_background_image': True, 'has_extended_profile': True, 'default_profile': True, 'default_profile_image': False, 'following': False, 'follow_request_sent': False, 'notifications': False, 'translator_type': 'none'}, id=1293449414095208448, id_str='1293449414095208448', name='NTR Na Devudu', screen_name='devudu_ntr', location='Visakhapatnam, MVP colony', description='పుట్టుకతో NTR అభిమాని ఇక్కడ 🦁\\nDie hard fan of @tarak9999 🦁🌊\\n\\n#NTRTwitter\\n#Celebrating20YearsOfNTR\\n#KomaramBheemNTR\\nనా backup a/c @Ntr1Devudu', url=None, entities={'description': {'urls': []}}, protected=False, followers_count=1118, friends_count=1343, listed_count=0, created_at=datetime.datetime(2020, 8, 12, 7, 29, 20), favourites_count=6223, utc_offset=None, time_zone=None, geo_enabled=False, verified=False, statuses_count=8939, lang=None, contributors_enabled=False, is_translator=False, is_translation_enabled=False, profile_background_color='F5F8FA', profile_background_image_url=None, profile_background_image_url_https=None, profile_background_tile=False, profile_image_url='http://pbs.twimg.com/profile_images/1319182088956829696/hCloUleF_normal.jpg', profile_image_url_https='https://pbs.twimg.com/profile_images/1319182088956829696/hCloUleF_normal.jpg', profile_banner_url='https://pbs.twimg.com/profile_banners/1293449414095208448/1603551675', profile_link_color='1DA1F2', profile_sidebar_border_color='C0DEED', profile_sidebar_fill_color='DDEEF6', profile_text_color='333333', profile_use_background_image=True, has_extended_profile=True, default_profile=True, default_profile_image=False, following=False, follow_request_sent=False, notifications=False, translator_type='none'), user=User(_api=<tweepy.api.API object at 0x000001EFAA8CD588>, _json={'id': 1293449414095208448, 'id_str': '1293449414095208448', 'name': 'NTR Na Devudu', 'screen_name': 'devudu_ntr', 'location': 'Visakhapatnam, MVP colony', 'description': 'పుట్టుకతో NTR అభిమాని ఇక్కడ 🦁\\nDie hard fan of @tarak9999 🦁🌊\\n\\n#NTRTwitter\\n#Celebrating20YearsOfNTR\\n#KomaramBheemNTR\\nనా backup a/c @Ntr1Devudu', 'url': None, 'entities': {'description': {'urls': []}}, 'protected': False, 'followers_count': 1118, 'friends_count': 1343, 'listed_count': 0, 'created_at': 'Wed Aug 12 07:29:20 +0000 2020', 'favourites_count': 6223, 'utc_offset': None, 'time_zone': None, 'geo_enabled': False, 'verified': False, 'statuses_count': 8939, 'lang': None, 'contributors_enabled': False, 'is_translator': False, 'is_translation_enabled': False, 'profile_background_color': 'F5F8FA', 'profile_background_image_url': None, 'profile_background_image_url_https': None, 'profile_background_tile': False, 'profile_image_url': 'http://pbs.twimg.com/profile_images/1319182088956829696/hCloUleF_normal.jpg', 'profile_image_url_https': 'https://pbs.twimg.com/profile_images/1319182088956829696/hCloUleF_normal.jpg', 'profile_banner_url': 'https://pbs.twimg.com/profile_banners/1293449414095208448/1603551675', 'profile_link_color': '1DA1F2', 'profile_sidebar_border_color': 'C0DEED', 'profile_sidebar_fill_color': 'DDEEF6', 'profile_text_color': '333333', 'profile_use_background_image': True, 'has_extended_profile': True, 'default_profile': True, 'default_profile_image': False, 'following': False, 'follow_request_sent': False, 'notifications': False, 'translator_type': 'none'}, id=1293449414095208448, id_str='1293449414095208448', name='NTR Na Devudu', screen_name='devudu_ntr', location='Visakhapatnam, MVP colony', description='పుట్టుకతో NTR అభిమాని ఇక్కడ 🦁\\nDie hard fan of @tarak9999 🦁🌊\\n\\n#NTRTwitter\\n#Celebrating20YearsOfNTR\\n#KomaramBheemNTR\\nనా backup a/c @Ntr1Devudu', url=None, entities={'description': {'urls': []}}, protected=False, followers_count=1118, friends_count=1343, listed_count=0, created_at=datetime.datetime(2020, 8, 12, 7, 29, 20), favourites_count=6223, utc_offset=None, time_zone=None, geo_enabled=False, verified=False, statuses_count=8939, lang=None, contributors_enabled=False, is_translator=False, is_translation_enabled=False, profile_background_color='F5F8FA', profile_background_image_url=None, profile_background_image_url_https=None, profile_background_tile=False, profile_image_url='http://pbs.twimg.com/profile_images/1319182088956829696/hCloUleF_normal.jpg', profile_image_url_https='https://pbs.twimg.com/profile_images/1319182088956829696/hCloUleF_normal.jpg', profile_banner_url='https://pbs.twimg.com/profile_banners/1293449414095208448/1603551675', profile_link_color='1DA1F2', profile_sidebar_border_color='C0DEED', profile_sidebar_fill_color='DDEEF6', profile_text_color='333333', profile_use_background_image=True, has_extended_profile=True, default_profile=True, default_profile_image=False, following=False, follow_request_sent=False, notifications=False, translator_type='none'), geo=None, coordinates=None, place=None, contributors=None, is_quote_status=False, retweet_count=0, favorite_count=1, favorited=False, retweeted=False, lang='en') \n",
      "\n",
      ".....................................\n",
      "\n",
      "Status(_api=<tweepy.api.API object at 0x000001EFAA8CD588>, _json={'created_at': 'Mon Nov 02 10:26:16 +0000 2020', 'id': 1323209805142450182, 'id_str': '1323209805142450182', 'full_text': 'Not NTR or Ram Charan, but this will be RRR’s highlight?\\n\\n👉👉https://t.co/EWrDabeZoK\\n\\n#Ntr #RamCharan #RRR', 'truncated': False, 'display_text_range': [0, 105], 'entities': {'hashtags': [{'text': 'Ntr', 'indices': [85, 89]}, {'text': 'RamCharan', 'indices': [90, 100]}, {'text': 'RRR', 'indices': [101, 105]}], 'symbols': [], 'user_mentions': [], 'urls': [{'url': 'https://t.co/EWrDabeZoK', 'expanded_url': 'https://www.teluguin.com/en/movie-news/not-ntr-or-ram-charan-but-this-will-be-rrrs-highlight-139560.html', 'display_url': 'teluguin.com/en/movie-news/…', 'indices': [60, 83]}]}, 'metadata': {'iso_language_code': 'en', 'result_type': 'recent'}, 'source': '<a href=\"https://mobile.twitter.com\" rel=\"nofollow\">Twitter Web App</a>', 'in_reply_to_status_id': None, 'in_reply_to_status_id_str': None, 'in_reply_to_user_id': None, 'in_reply_to_user_id_str': None, 'in_reply_to_screen_name': None, 'user': {'id': 1399239708, 'id_str': '1399239708', 'name': 'teluguIN', 'screen_name': 'teluguinnews', 'location': '', 'description': \"Craving for unbiased and on-point news updates, analysis, and film reviews? Here's our website link: https://t.co/Hv7VntCxkq\", 'url': 'https://t.co/Hv7VntCxkq', 'entities': {'url': {'urls': [{'url': 'https://t.co/Hv7VntCxkq', 'expanded_url': 'http://www.teluguin.com', 'display_url': 'teluguin.com', 'indices': [0, 23]}]}, 'description': {'urls': [{'url': 'https://t.co/Hv7VntCxkq', 'expanded_url': 'http://www.teluguin.com', 'display_url': 'teluguin.com', 'indices': [101, 124]}]}}, 'protected': False, 'followers_count': 3098, 'friends_count': 362, 'listed_count': 167, 'created_at': 'Fri May 03 09:07:25 +0000 2013', 'favourites_count': 336, 'utc_offset': None, 'time_zone': None, 'geo_enabled': True, 'verified': False, 'statuses_count': 92655, 'lang': None, 'contributors_enabled': False, 'is_translator': False, 'is_translation_enabled': False, 'profile_background_color': 'C0DEED', 'profile_background_image_url': 'http://abs.twimg.com/images/themes/theme1/bg.png', 'profile_background_image_url_https': 'https://abs.twimg.com/images/themes/theme1/bg.png', 'profile_background_tile': False, 'profile_image_url': 'http://pbs.twimg.com/profile_images/1061901508495568897/WwNMGp2X_normal.jpg', 'profile_image_url_https': 'https://pbs.twimg.com/profile_images/1061901508495568897/WwNMGp2X_normal.jpg', 'profile_banner_url': 'https://pbs.twimg.com/profile_banners/1399239708/1542011929', 'profile_link_color': '1DA1F2', 'profile_sidebar_border_color': 'C0DEED', 'profile_sidebar_fill_color': 'DDEEF6', 'profile_text_color': '333333', 'profile_use_background_image': True, 'has_extended_profile': False, 'default_profile': True, 'default_profile_image': False, 'following': False, 'follow_request_sent': False, 'notifications': False, 'translator_type': 'none'}, 'geo': None, 'coordinates': None, 'place': None, 'contributors': None, 'is_quote_status': False, 'retweet_count': 0, 'favorite_count': 0, 'favorited': False, 'retweeted': False, 'possibly_sensitive': False, 'lang': 'en'}, created_at=datetime.datetime(2020, 11, 2, 10, 26, 16), id=1323209805142450182, id_str='1323209805142450182', full_text='Not NTR or Ram Charan, but this will be RRR’s highlight?\\n\\n👉👉https://t.co/EWrDabeZoK\\n\\n#Ntr #RamCharan #RRR', truncated=False, display_text_range=[0, 105], entities={'hashtags': [{'text': 'Ntr', 'indices': [85, 89]}, {'text': 'RamCharan', 'indices': [90, 100]}, {'text': 'RRR', 'indices': [101, 105]}], 'symbols': [], 'user_mentions': [], 'urls': [{'url': 'https://t.co/EWrDabeZoK', 'expanded_url': 'https://www.teluguin.com/en/movie-news/not-ntr-or-ram-charan-but-this-will-be-rrrs-highlight-139560.html', 'display_url': 'teluguin.com/en/movie-news/…', 'indices': [60, 83]}]}, metadata={'iso_language_code': 'en', 'result_type': 'recent'}, source='Twitter Web App', source_url='https://mobile.twitter.com', in_reply_to_status_id=None, in_reply_to_status_id_str=None, in_reply_to_user_id=None, in_reply_to_user_id_str=None, in_reply_to_screen_name=None, author=User(_api=<tweepy.api.API object at 0x000001EFAA8CD588>, _json={'id': 1399239708, 'id_str': '1399239708', 'name': 'teluguIN', 'screen_name': 'teluguinnews', 'location': '', 'description': \"Craving for unbiased and on-point news updates, analysis, and film reviews? Here's our website link: https://t.co/Hv7VntCxkq\", 'url': 'https://t.co/Hv7VntCxkq', 'entities': {'url': {'urls': [{'url': 'https://t.co/Hv7VntCxkq', 'expanded_url': 'http://www.teluguin.com', 'display_url': 'teluguin.com', 'indices': [0, 23]}]}, 'description': {'urls': [{'url': 'https://t.co/Hv7VntCxkq', 'expanded_url': 'http://www.teluguin.com', 'display_url': 'teluguin.com', 'indices': [101, 124]}]}}, 'protected': False, 'followers_count': 3098, 'friends_count': 362, 'listed_count': 167, 'created_at': 'Fri May 03 09:07:25 +0000 2013', 'favourites_count': 336, 'utc_offset': None, 'time_zone': None, 'geo_enabled': True, 'verified': False, 'statuses_count': 92655, 'lang': None, 'contributors_enabled': False, 'is_translator': False, 'is_translation_enabled': False, 'profile_background_color': 'C0DEED', 'profile_background_image_url': 'http://abs.twimg.com/images/themes/theme1/bg.png', 'profile_background_image_url_https': 'https://abs.twimg.com/images/themes/theme1/bg.png', 'profile_background_tile': False, 'profile_image_url': 'http://pbs.twimg.com/profile_images/1061901508495568897/WwNMGp2X_normal.jpg', 'profile_image_url_https': 'https://pbs.twimg.com/profile_images/1061901508495568897/WwNMGp2X_normal.jpg', 'profile_banner_url': 'https://pbs.twimg.com/profile_banners/1399239708/1542011929', 'profile_link_color': '1DA1F2', 'profile_sidebar_border_color': 'C0DEED', 'profile_sidebar_fill_color': 'DDEEF6', 'profile_text_color': '333333', 'profile_use_background_image': True, 'has_extended_profile': False, 'default_profile': True, 'default_profile_image': False, 'following': False, 'follow_request_sent': False, 'notifications': False, 'translator_type': 'none'}, id=1399239708, id_str='1399239708', name='teluguIN', screen_name='teluguinnews', location='', description=\"Craving for unbiased and on-point news updates, analysis, and film reviews? Here's our website link: https://t.co/Hv7VntCxkq\", url='https://t.co/Hv7VntCxkq', entities={'url': {'urls': [{'url': 'https://t.co/Hv7VntCxkq', 'expanded_url': 'http://www.teluguin.com', 'display_url': 'teluguin.com', 'indices': [0, 23]}]}, 'description': {'urls': [{'url': 'https://t.co/Hv7VntCxkq', 'expanded_url': 'http://www.teluguin.com', 'display_url': 'teluguin.com', 'indices': [101, 124]}]}}, protected=False, followers_count=3098, friends_count=362, listed_count=167, created_at=datetime.datetime(2013, 5, 3, 9, 7, 25), favourites_count=336, utc_offset=None, time_zone=None, geo_enabled=True, verified=False, statuses_count=92655, lang=None, contributors_enabled=False, is_translator=False, is_translation_enabled=False, profile_background_color='C0DEED', profile_background_image_url='http://abs.twimg.com/images/themes/theme1/bg.png', profile_background_image_url_https='https://abs.twimg.com/images/themes/theme1/bg.png', profile_background_tile=False, profile_image_url='http://pbs.twimg.com/profile_images/1061901508495568897/WwNMGp2X_normal.jpg', profile_image_url_https='https://pbs.twimg.com/profile_images/1061901508495568897/WwNMGp2X_normal.jpg', profile_banner_url='https://pbs.twimg.com/profile_banners/1399239708/1542011929', profile_link_color='1DA1F2', profile_sidebar_border_color='C0DEED', profile_sidebar_fill_color='DDEEF6', profile_text_color='333333', profile_use_background_image=True, has_extended_profile=False, default_profile=True, default_profile_image=False, following=False, follow_request_sent=False, notifications=False, translator_type='none'), user=User(_api=<tweepy.api.API object at 0x000001EFAA8CD588>, _json={'id': 1399239708, 'id_str': '1399239708', 'name': 'teluguIN', 'screen_name': 'teluguinnews', 'location': '', 'description': \"Craving for unbiased and on-point news updates, analysis, and film reviews? Here's our website link: https://t.co/Hv7VntCxkq\", 'url': 'https://t.co/Hv7VntCxkq', 'entities': {'url': {'urls': [{'url': 'https://t.co/Hv7VntCxkq', 'expanded_url': 'http://www.teluguin.com', 'display_url': 'teluguin.com', 'indices': [0, 23]}]}, 'description': {'urls': [{'url': 'https://t.co/Hv7VntCxkq', 'expanded_url': 'http://www.teluguin.com', 'display_url': 'teluguin.com', 'indices': [101, 124]}]}}, 'protected': False, 'followers_count': 3098, 'friends_count': 362, 'listed_count': 167, 'created_at': 'Fri May 03 09:07:25 +0000 2013', 'favourites_count': 336, 'utc_offset': None, 'time_zone': None, 'geo_enabled': True, 'verified': False, 'statuses_count': 92655, 'lang': None, 'contributors_enabled': False, 'is_translator': False, 'is_translation_enabled': False, 'profile_background_color': 'C0DEED', 'profile_background_image_url': 'http://abs.twimg.com/images/themes/theme1/bg.png', 'profile_background_image_url_https': 'https://abs.twimg.com/images/themes/theme1/bg.png', 'profile_background_tile': False, 'profile_image_url': 'http://pbs.twimg.com/profile_images/1061901508495568897/WwNMGp2X_normal.jpg', 'profile_image_url_https': 'https://pbs.twimg.com/profile_images/1061901508495568897/WwNMGp2X_normal.jpg', 'profile_banner_url': 'https://pbs.twimg.com/profile_banners/1399239708/1542011929', 'profile_link_color': '1DA1F2', 'profile_sidebar_border_color': 'C0DEED', 'profile_sidebar_fill_color': 'DDEEF6', 'profile_text_color': '333333', 'profile_use_background_image': True, 'has_extended_profile': False, 'default_profile': True, 'default_profile_image': False, 'following': False, 'follow_request_sent': False, 'notifications': False, 'translator_type': 'none'}, id=1399239708, id_str='1399239708', name='teluguIN', screen_name='teluguinnews', location='', description=\"Craving for unbiased and on-point news updates, analysis, and film reviews? Here's our website link: https://t.co/Hv7VntCxkq\", url='https://t.co/Hv7VntCxkq', entities={'url': {'urls': [{'url': 'https://t.co/Hv7VntCxkq', 'expanded_url': 'http://www.teluguin.com', 'display_url': 'teluguin.com', 'indices': [0, 23]}]}, 'description': {'urls': [{'url': 'https://t.co/Hv7VntCxkq', 'expanded_url': 'http://www.teluguin.com', 'display_url': 'teluguin.com', 'indices': [101, 124]}]}}, protected=False, followers_count=3098, friends_count=362, listed_count=167, created_at=datetime.datetime(2013, 5, 3, 9, 7, 25), favourites_count=336, utc_offset=None, time_zone=None, geo_enabled=True, verified=False, statuses_count=92655, lang=None, contributors_enabled=False, is_translator=False, is_translation_enabled=False, profile_background_color='C0DEED', profile_background_image_url='http://abs.twimg.com/images/themes/theme1/bg.png', profile_background_image_url_https='https://abs.twimg.com/images/themes/theme1/bg.png', profile_background_tile=False, profile_image_url='http://pbs.twimg.com/profile_images/1061901508495568897/WwNMGp2X_normal.jpg', profile_image_url_https='https://pbs.twimg.com/profile_images/1061901508495568897/WwNMGp2X_normal.jpg', profile_banner_url='https://pbs.twimg.com/profile_banners/1399239708/1542011929', profile_link_color='1DA1F2', profile_sidebar_border_color='C0DEED', profile_sidebar_fill_color='DDEEF6', profile_text_color='333333', profile_use_background_image=True, has_extended_profile=False, default_profile=True, default_profile_image=False, following=False, follow_request_sent=False, notifications=False, translator_type='none'), geo=None, coordinates=None, place=None, contributors=None, is_quote_status=False, retweet_count=0, favorite_count=0, favorited=False, retweeted=False, possibly_sensitive=False, lang='en') \n",
      "\n",
      ".....................................\n",
      "\n",
      "Status(_api=<tweepy.api.API object at 0x000001EFAA8CD588>, _json={'created_at': 'Mon Nov 02 10:25:45 +0000 2020', 'id': 1323209677472112640, 'id_str': '1323209677472112640', 'full_text': 'NTR is columbus of Andhra who discovered TDP.🤣 https://t.co/YNIEiXSe8l', 'truncated': False, 'display_text_range': [0, 46], 'entities': {'hashtags': [], 'symbols': [], 'user_mentions': [], 'urls': [{'url': 'https://t.co/YNIEiXSe8l', 'expanded_url': 'https://twitter.com/ycp_fools/status/1323169715246657536', 'display_url': 'twitter.com/ycp_fools/stat…', 'indices': [47, 70]}]}, 'metadata': {'iso_language_code': 'en', 'result_type': 'recent'}, 'source': '<a href=\"http://twitter.com/download/iphone\" rel=\"nofollow\">Twitter for iPhone</a>', 'in_reply_to_status_id': None, 'in_reply_to_status_id_str': None, 'in_reply_to_user_id': None, 'in_reply_to_user_id_str': None, 'in_reply_to_screen_name': None, 'user': {'id': 443615926, 'id_str': '443615926', 'name': 'అరె థాయ్\\u200c', 'screen_name': 'K3K_cube', 'location': 'Where bar & biriyani exists', 'description': 'Frustrated Software labour, loves controversies, biriyani. Pursuing Ph.D in sarcasm.. Mumbai lo bathakalanipichaadi, Hyderabad kavalanipichaadi.. Seema Bidda.', 'url': None, 'entities': {'description': {'urls': []}}, 'protected': False, 'followers_count': 3873, 'friends_count': 246, 'listed_count': 15, 'created_at': 'Thu Dec 22 10:47:55 +0000 2011', 'favourites_count': 39652, 'utc_offset': None, 'time_zone': None, 'geo_enabled': False, 'verified': False, 'statuses_count': 30400, 'lang': None, 'contributors_enabled': False, 'is_translator': False, 'is_translation_enabled': False, 'profile_background_color': 'C0DEED', 'profile_background_image_url': 'http://abs.twimg.com/images/themes/theme1/bg.png', 'profile_background_image_url_https': 'https://abs.twimg.com/images/themes/theme1/bg.png', 'profile_background_tile': False, 'profile_image_url': 'http://pbs.twimg.com/profile_images/1310890540586598403/ppxNXbg__normal.jpg', 'profile_image_url_https': 'https://pbs.twimg.com/profile_images/1310890540586598403/ppxNXbg__normal.jpg', 'profile_banner_url': 'https://pbs.twimg.com/profile_banners/443615926/1479313888', 'profile_link_color': '1B95E0', 'profile_sidebar_border_color': 'C0DEED', 'profile_sidebar_fill_color': 'DDEEF6', 'profile_text_color': '333333', 'profile_use_background_image': True, 'has_extended_profile': True, 'default_profile': False, 'default_profile_image': False, 'following': False, 'follow_request_sent': False, 'notifications': False, 'translator_type': 'none'}, 'geo': None, 'coordinates': None, 'place': None, 'contributors': None, 'is_quote_status': True, 'quoted_status_id': 1323169715246657536, 'quoted_status_id_str': '1323169715246657536', 'quoted_status': {'created_at': 'Mon Nov 02 07:46:58 +0000 2020', 'id': 1323169715246657536, 'id_str': '1323169715246657536', 'full_text': '@iTDP__Official @ThokkaloYCP @naralokesh @ncbn @ysjagan మీ రామరావు గారు ఏంట్రా? లంజాకొడక.. ఆయన టిడిపి ని కనుగొన్నారు.. మేము దోచుకున్నమా? ఎవడు చెప్పాడు ని అమ్మ మొగుడు చెప్పడా? దెంగే పక్కకి', 'truncated': False, 'display_text_range': [56, 187], 'entities': {'hashtags': [], 'symbols': [], 'user_mentions': [{'screen_name': 'iTDP__Official', 'name': 'iTDP_Official', 'id': 1281662823244816385, 'id_str': '1281662823244816385', 'indices': [0, 15]}, {'screen_name': 'ThokkaloYCP', 'name': 'Brump', 'id': 1315668441634750465, 'id_str': '1315668441634750465', 'indices': [16, 28]}, {'screen_name': 'naralokesh', 'name': 'Lokesh Nara #StayHomeSaveLives', 'id': 88859982, 'id_str': '88859982', 'indices': [29, 40]}, {'screen_name': 'ncbn', 'name': 'N Chandrababu Naidu #StayHomeSaveLives', 'id': 85221650, 'id_str': '85221650', 'indices': [41, 46]}, {'screen_name': 'ysjagan', 'name': 'YS Jagan Mohan Reddy', 'id': 2965511647, 'id_str': '2965511647', 'indices': [47, 55]}], 'urls': []}, 'metadata': {'iso_language_code': 'en', 'result_type': 'recent'}, 'source': '<a href=\"https://mobile.twitter.com\" rel=\"nofollow\">Twitter Web App</a>', 'in_reply_to_status_id': 1323167734759264256, 'in_reply_to_status_id_str': '1323167734759264256', 'in_reply_to_user_id': 1281662823244816385, 'in_reply_to_user_id_str': '1281662823244816385', 'in_reply_to_screen_name': 'iTDP__Official', 'user': {'id': 1318463346253783041, 'id_str': '1318463346253783041', 'name': 'జఫ్ఫా జాస్కోబార్', 'screen_name': 'YCP_fools', 'location': '', 'description': '#TDPTWITTER  , #JAIBALAYYA ,@tarak9999 #STOPHINDIIMPOSITION , #హిందీరాదుపోరా ..', 'url': None, 'entities': {'description': {'urls': []}}, 'protected': False, 'followers_count': 91, 'friends_count': 399, 'listed_count': 1, 'created_at': 'Tue Oct 20 08:05:40 +0000 2020', 'favourites_count': 1987, 'utc_offset': None, 'time_zone': None, 'geo_enabled': False, 'verified': False, 'statuses_count': 1264, 'lang': None, 'contributors_enabled': False, 'is_translator': False, 'is_translation_enabled': False, 'profile_background_color': 'F5F8FA', 'profile_background_image_url': None, 'profile_background_image_url_https': None, 'profile_background_tile': False, 'profile_image_url': 'http://pbs.twimg.com/profile_images/1319897809080840192/PGVIq8rK_normal.jpg', 'profile_image_url_https': 'https://pbs.twimg.com/profile_images/1319897809080840192/PGVIq8rK_normal.jpg', 'profile_banner_url': 'https://pbs.twimg.com/profile_banners/1318463346253783041/1603521672', 'profile_link_color': '1DA1F2', 'profile_sidebar_border_color': 'C0DEED', 'profile_sidebar_fill_color': 'DDEEF6', 'profile_text_color': '333333', 'profile_use_background_image': True, 'has_extended_profile': True, 'default_profile': True, 'default_profile_image': False, 'following': False, 'follow_request_sent': False, 'notifications': False, 'translator_type': 'none'}, 'geo': None, 'coordinates': None, 'place': None, 'contributors': None, 'is_quote_status': False, 'retweet_count': 0, 'favorite_count': 1, 'favorited': False, 'retweeted': False, 'lang': 'te'}, 'retweet_count': 0, 'favorite_count': 2, 'favorited': False, 'retweeted': False, 'possibly_sensitive': False, 'lang': 'en'}, created_at=datetime.datetime(2020, 11, 2, 10, 25, 45), id=1323209677472112640, id_str='1323209677472112640', full_text='NTR is columbus of Andhra who discovered TDP.🤣 https://t.co/YNIEiXSe8l', truncated=False, display_text_range=[0, 46], entities={'hashtags': [], 'symbols': [], 'user_mentions': [], 'urls': [{'url': 'https://t.co/YNIEiXSe8l', 'expanded_url': 'https://twitter.com/ycp_fools/status/1323169715246657536', 'display_url': 'twitter.com/ycp_fools/stat…', 'indices': [47, 70]}]}, metadata={'iso_language_code': 'en', 'result_type': 'recent'}, source='Twitter for iPhone', source_url='http://twitter.com/download/iphone', in_reply_to_status_id=None, in_reply_to_status_id_str=None, in_reply_to_user_id=None, in_reply_to_user_id_str=None, in_reply_to_screen_name=None, author=User(_api=<tweepy.api.API object at 0x000001EFAA8CD588>, _json={'id': 443615926, 'id_str': '443615926', 'name': 'అరె థాయ్\\u200c', 'screen_name': 'K3K_cube', 'location': 'Where bar & biriyani exists', 'description': 'Frustrated Software labour, loves controversies, biriyani. Pursuing Ph.D in sarcasm.. Mumbai lo bathakalanipichaadi, Hyderabad kavalanipichaadi.. Seema Bidda.', 'url': None, 'entities': {'description': {'urls': []}}, 'protected': False, 'followers_count': 3873, 'friends_count': 246, 'listed_count': 15, 'created_at': 'Thu Dec 22 10:47:55 +0000 2011', 'favourites_count': 39652, 'utc_offset': None, 'time_zone': None, 'geo_enabled': False, 'verified': False, 'statuses_count': 30400, 'lang': None, 'contributors_enabled': False, 'is_translator': False, 'is_translation_enabled': False, 'profile_background_color': 'C0DEED', 'profile_background_image_url': 'http://abs.twimg.com/images/themes/theme1/bg.png', 'profile_background_image_url_https': 'https://abs.twimg.com/images/themes/theme1/bg.png', 'profile_background_tile': False, 'profile_image_url': 'http://pbs.twimg.com/profile_images/1310890540586598403/ppxNXbg__normal.jpg', 'profile_image_url_https': 'https://pbs.twimg.com/profile_images/1310890540586598403/ppxNXbg__normal.jpg', 'profile_banner_url': 'https://pbs.twimg.com/profile_banners/443615926/1479313888', 'profile_link_color': '1B95E0', 'profile_sidebar_border_color': 'C0DEED', 'profile_sidebar_fill_color': 'DDEEF6', 'profile_text_color': '333333', 'profile_use_background_image': True, 'has_extended_profile': True, 'default_profile': False, 'default_profile_image': False, 'following': False, 'follow_request_sent': False, 'notifications': False, 'translator_type': 'none'}, id=443615926, id_str='443615926', name='అరె థాయ్\\u200c', screen_name='K3K_cube', location='Where bar & biriyani exists', description='Frustrated Software labour, loves controversies, biriyani. Pursuing Ph.D in sarcasm.. Mumbai lo bathakalanipichaadi, Hyderabad kavalanipichaadi.. Seema Bidda.', url=None, entities={'description': {'urls': []}}, protected=False, followers_count=3873, friends_count=246, listed_count=15, created_at=datetime.datetime(2011, 12, 22, 10, 47, 55), favourites_count=39652, utc_offset=None, time_zone=None, geo_enabled=False, verified=False, statuses_count=30400, lang=None, contributors_enabled=False, is_translator=False, is_translation_enabled=False, profile_background_color='C0DEED', profile_background_image_url='http://abs.twimg.com/images/themes/theme1/bg.png', profile_background_image_url_https='https://abs.twimg.com/images/themes/theme1/bg.png', profile_background_tile=False, profile_image_url='http://pbs.twimg.com/profile_images/1310890540586598403/ppxNXbg__normal.jpg', profile_image_url_https='https://pbs.twimg.com/profile_images/1310890540586598403/ppxNXbg__normal.jpg', profile_banner_url='https://pbs.twimg.com/profile_banners/443615926/1479313888', profile_link_color='1B95E0', profile_sidebar_border_color='C0DEED', profile_sidebar_fill_color='DDEEF6', profile_text_color='333333', profile_use_background_image=True, has_extended_profile=True, default_profile=False, default_profile_image=False, following=False, follow_request_sent=False, notifications=False, translator_type='none'), user=User(_api=<tweepy.api.API object at 0x000001EFAA8CD588>, _json={'id': 443615926, 'id_str': '443615926', 'name': 'అరె థాయ్\\u200c', 'screen_name': 'K3K_cube', 'location': 'Where bar & biriyani exists', 'description': 'Frustrated Software labour, loves controversies, biriyani. Pursuing Ph.D in sarcasm.. Mumbai lo bathakalanipichaadi, Hyderabad kavalanipichaadi.. Seema Bidda.', 'url': None, 'entities': {'description': {'urls': []}}, 'protected': False, 'followers_count': 3873, 'friends_count': 246, 'listed_count': 15, 'created_at': 'Thu Dec 22 10:47:55 +0000 2011', 'favourites_count': 39652, 'utc_offset': None, 'time_zone': None, 'geo_enabled': False, 'verified': False, 'statuses_count': 30400, 'lang': None, 'contributors_enabled': False, 'is_translator': False, 'is_translation_enabled': False, 'profile_background_color': 'C0DEED', 'profile_background_image_url': 'http://abs.twimg.com/images/themes/theme1/bg.png', 'profile_background_image_url_https': 'https://abs.twimg.com/images/themes/theme1/bg.png', 'profile_background_tile': False, 'profile_image_url': 'http://pbs.twimg.com/profile_images/1310890540586598403/ppxNXbg__normal.jpg', 'profile_image_url_https': 'https://pbs.twimg.com/profile_images/1310890540586598403/ppxNXbg__normal.jpg', 'profile_banner_url': 'https://pbs.twimg.com/profile_banners/443615926/1479313888', 'profile_link_color': '1B95E0', 'profile_sidebar_border_color': 'C0DEED', 'profile_sidebar_fill_color': 'DDEEF6', 'profile_text_color': '333333', 'profile_use_background_image': True, 'has_extended_profile': True, 'default_profile': False, 'default_profile_image': False, 'following': False, 'follow_request_sent': False, 'notifications': False, 'translator_type': 'none'}, id=443615926, id_str='443615926', name='అరె థాయ్\\u200c', screen_name='K3K_cube', location='Where bar & biriyani exists', description='Frustrated Software labour, loves controversies, biriyani. Pursuing Ph.D in sarcasm.. Mumbai lo bathakalanipichaadi, Hyderabad kavalanipichaadi.. Seema Bidda.', url=None, entities={'description': {'urls': []}}, protected=False, followers_count=3873, friends_count=246, listed_count=15, created_at=datetime.datetime(2011, 12, 22, 10, 47, 55), favourites_count=39652, utc_offset=None, time_zone=None, geo_enabled=False, verified=False, statuses_count=30400, lang=None, contributors_enabled=False, is_translator=False, is_translation_enabled=False, profile_background_color='C0DEED', profile_background_image_url='http://abs.twimg.com/images/themes/theme1/bg.png', profile_background_image_url_https='https://abs.twimg.com/images/themes/theme1/bg.png', profile_background_tile=False, profile_image_url='http://pbs.twimg.com/profile_images/1310890540586598403/ppxNXbg__normal.jpg', profile_image_url_https='https://pbs.twimg.com/profile_images/1310890540586598403/ppxNXbg__normal.jpg', profile_banner_url='https://pbs.twimg.com/profile_banners/443615926/1479313888', profile_link_color='1B95E0', profile_sidebar_border_color='C0DEED', profile_sidebar_fill_color='DDEEF6', profile_text_color='333333', profile_use_background_image=True, has_extended_profile=True, default_profile=False, default_profile_image=False, following=False, follow_request_sent=False, notifications=False, translator_type='none'), geo=None, coordinates=None, place=None, contributors=None, is_quote_status=True, quoted_status_id=1323169715246657536, quoted_status_id_str='1323169715246657536', quoted_status=Status(_api=<tweepy.api.API object at 0x000001EFAA8CD588>, _json={'created_at': 'Mon Nov 02 07:46:58 +0000 2020', 'id': 1323169715246657536, 'id_str': '1323169715246657536', 'full_text': '@iTDP__Official @ThokkaloYCP @naralokesh @ncbn @ysjagan మీ రామరావు గారు ఏంట్రా? లంజాకొడక.. ఆయన టిడిపి ని కనుగొన్నారు.. మేము దోచుకున్నమా? ఎవడు చెప్పాడు ని అమ్మ మొగుడు చెప్పడా? దెంగే పక్కకి', 'truncated': False, 'display_text_range': [56, 187], 'entities': {'hashtags': [], 'symbols': [], 'user_mentions': [{'screen_name': 'iTDP__Official', 'name': 'iTDP_Official', 'id': 1281662823244816385, 'id_str': '1281662823244816385', 'indices': [0, 15]}, {'screen_name': 'ThokkaloYCP', 'name': 'Brump', 'id': 1315668441634750465, 'id_str': '1315668441634750465', 'indices': [16, 28]}, {'screen_name': 'naralokesh', 'name': 'Lokesh Nara #StayHomeSaveLives', 'id': 88859982, 'id_str': '88859982', 'indices': [29, 40]}, {'screen_name': 'ncbn', 'name': 'N Chandrababu Naidu #StayHomeSaveLives', 'id': 85221650, 'id_str': '85221650', 'indices': [41, 46]}, {'screen_name': 'ysjagan', 'name': 'YS Jagan Mohan Reddy', 'id': 2965511647, 'id_str': '2965511647', 'indices': [47, 55]}], 'urls': []}, 'metadata': {'iso_language_code': 'en', 'result_type': 'recent'}, 'source': '<a href=\"https://mobile.twitter.com\" rel=\"nofollow\">Twitter Web App</a>', 'in_reply_to_status_id': 1323167734759264256, 'in_reply_to_status_id_str': '1323167734759264256', 'in_reply_to_user_id': 1281662823244816385, 'in_reply_to_user_id_str': '1281662823244816385', 'in_reply_to_screen_name': 'iTDP__Official', 'user': {'id': 1318463346253783041, 'id_str': '1318463346253783041', 'name': 'జఫ్ఫా జాస్కోబార్', 'screen_name': 'YCP_fools', 'location': '', 'description': '#TDPTWITTER  , #JAIBALAYYA ,@tarak9999 #STOPHINDIIMPOSITION , #హిందీరాదుపోరా ..', 'url': None, 'entities': {'description': {'urls': []}}, 'protected': False, 'followers_count': 91, 'friends_count': 399, 'listed_count': 1, 'created_at': 'Tue Oct 20 08:05:40 +0000 2020', 'favourites_count': 1987, 'utc_offset': None, 'time_zone': None, 'geo_enabled': False, 'verified': False, 'statuses_count': 1264, 'lang': None, 'contributors_enabled': False, 'is_translator': False, 'is_translation_enabled': False, 'profile_background_color': 'F5F8FA', 'profile_background_image_url': None, 'profile_background_image_url_https': None, 'profile_background_tile': False, 'profile_image_url': 'http://pbs.twimg.com/profile_images/1319897809080840192/PGVIq8rK_normal.jpg', 'profile_image_url_https': 'https://pbs.twimg.com/profile_images/1319897809080840192/PGVIq8rK_normal.jpg', 'profile_banner_url': 'https://pbs.twimg.com/profile_banners/1318463346253783041/1603521672', 'profile_link_color': '1DA1F2', 'profile_sidebar_border_color': 'C0DEED', 'profile_sidebar_fill_color': 'DDEEF6', 'profile_text_color': '333333', 'profile_use_background_image': True, 'has_extended_profile': True, 'default_profile': True, 'default_profile_image': False, 'following': False, 'follow_request_sent': False, 'notifications': False, 'translator_type': 'none'}, 'geo': None, 'coordinates': None, 'place': None, 'contributors': None, 'is_quote_status': False, 'retweet_count': 0, 'favorite_count': 1, 'favorited': False, 'retweeted': False, 'lang': 'te'}, created_at=datetime.datetime(2020, 11, 2, 7, 46, 58), id=1323169715246657536, id_str='1323169715246657536', full_text='@iTDP__Official @ThokkaloYCP @naralokesh @ncbn @ysjagan మీ రామరావు గారు ఏంట్రా? లంజాకొడక.. ఆయన టిడిపి ని కనుగొన్నారు.. మేము దోచుకున్నమా? ఎవడు చెప్పాడు ని అమ్మ మొగుడు చెప్పడా? దెంగే పక్కకి', truncated=False, display_text_range=[56, 187], entities={'hashtags': [], 'symbols': [], 'user_mentions': [{'screen_name': 'iTDP__Official', 'name': 'iTDP_Official', 'id': 1281662823244816385, 'id_str': '1281662823244816385', 'indices': [0, 15]}, {'screen_name': 'ThokkaloYCP', 'name': 'Brump', 'id': 1315668441634750465, 'id_str': '1315668441634750465', 'indices': [16, 28]}, {'screen_name': 'naralokesh', 'name': 'Lokesh Nara #StayHomeSaveLives', 'id': 88859982, 'id_str': '88859982', 'indices': [29, 40]}, {'screen_name': 'ncbn', 'name': 'N Chandrababu Naidu #StayHomeSaveLives', 'id': 85221650, 'id_str': '85221650', 'indices': [41, 46]}, {'screen_name': 'ysjagan', 'name': 'YS Jagan Mohan Reddy', 'id': 2965511647, 'id_str': '2965511647', 'indices': [47, 55]}], 'urls': []}, metadata={'iso_language_code': 'en', 'result_type': 'recent'}, source='Twitter Web App', source_url='https://mobile.twitter.com', in_reply_to_status_id=1323167734759264256, in_reply_to_status_id_str='1323167734759264256', in_reply_to_user_id=1281662823244816385, in_reply_to_user_id_str='1281662823244816385', in_reply_to_screen_name='iTDP__Official', author=User(_api=<tweepy.api.API object at 0x000001EFAA8CD588>, _json={'id': 1318463346253783041, 'id_str': '1318463346253783041', 'name': 'జఫ్ఫా జాస్కోబార్', 'screen_name': 'YCP_fools', 'location': '', 'description': '#TDPTWITTER  , #JAIBALAYYA ,@tarak9999 #STOPHINDIIMPOSITION , #హిందీరాదుపోరా ..', 'url': None, 'entities': {'description': {'urls': []}}, 'protected': False, 'followers_count': 91, 'friends_count': 399, 'listed_count': 1, 'created_at': 'Tue Oct 20 08:05:40 +0000 2020', 'favourites_count': 1987, 'utc_offset': None, 'time_zone': None, 'geo_enabled': False, 'verified': False, 'statuses_count': 1264, 'lang': None, 'contributors_enabled': False, 'is_translator': False, 'is_translation_enabled': False, 'profile_background_color': 'F5F8FA', 'profile_background_image_url': None, 'profile_background_image_url_https': None, 'profile_background_tile': False, 'profile_image_url': 'http://pbs.twimg.com/profile_images/1319897809080840192/PGVIq8rK_normal.jpg', 'profile_image_url_https': 'https://pbs.twimg.com/profile_images/1319897809080840192/PGVIq8rK_normal.jpg', 'profile_banner_url': 'https://pbs.twimg.com/profile_banners/1318463346253783041/1603521672', 'profile_link_color': '1DA1F2', 'profile_sidebar_border_color': 'C0DEED', 'profile_sidebar_fill_color': 'DDEEF6', 'profile_text_color': '333333', 'profile_use_background_image': True, 'has_extended_profile': True, 'default_profile': True, 'default_profile_image': False, 'following': False, 'follow_request_sent': False, 'notifications': False, 'translator_type': 'none'}, id=1318463346253783041, id_str='1318463346253783041', name='జఫ్ఫా జాస్కోబార్', screen_name='YCP_fools', location='', description='#TDPTWITTER  , #JAIBALAYYA ,@tarak9999 #STOPHINDIIMPOSITION , #హిందీరాదుపోరా ..', url=None, entities={'description': {'urls': []}}, protected=False, followers_count=91, friends_count=399, listed_count=1, created_at=datetime.datetime(2020, 10, 20, 8, 5, 40), favourites_count=1987, utc_offset=None, time_zone=None, geo_enabled=False, verified=False, statuses_count=1264, lang=None, contributors_enabled=False, is_translator=False, is_translation_enabled=False, profile_background_color='F5F8FA', profile_background_image_url=None, profile_background_image_url_https=None, profile_background_tile=False, profile_image_url='http://pbs.twimg.com/profile_images/1319897809080840192/PGVIq8rK_normal.jpg', profile_image_url_https='https://pbs.twimg.com/profile_images/1319897809080840192/PGVIq8rK_normal.jpg', profile_banner_url='https://pbs.twimg.com/profile_banners/1318463346253783041/1603521672', profile_link_color='1DA1F2', profile_sidebar_border_color='C0DEED', profile_sidebar_fill_color='DDEEF6', profile_text_color='333333', profile_use_background_image=True, has_extended_profile=True, default_profile=True, default_profile_image=False, following=False, follow_request_sent=False, notifications=False, translator_type='none'), user=User(_api=<tweepy.api.API object at 0x000001EFAA8CD588>, _json={'id': 1318463346253783041, 'id_str': '1318463346253783041', 'name': 'జఫ్ఫా జాస్కోబార్', 'screen_name': 'YCP_fools', 'location': '', 'description': '#TDPTWITTER  , #JAIBALAYYA ,@tarak9999 #STOPHINDIIMPOSITION , #హిందీరాదుపోరా ..', 'url': None, 'entities': {'description': {'urls': []}}, 'protected': False, 'followers_count': 91, 'friends_count': 399, 'listed_count': 1, 'created_at': 'Tue Oct 20 08:05:40 +0000 2020', 'favourites_count': 1987, 'utc_offset': None, 'time_zone': None, 'geo_enabled': False, 'verified': False, 'statuses_count': 1264, 'lang': None, 'contributors_enabled': False, 'is_translator': False, 'is_translation_enabled': False, 'profile_background_color': 'F5F8FA', 'profile_background_image_url': None, 'profile_background_image_url_https': None, 'profile_background_tile': False, 'profile_image_url': 'http://pbs.twimg.com/profile_images/1319897809080840192/PGVIq8rK_normal.jpg', 'profile_image_url_https': 'https://pbs.twimg.com/profile_images/1319897809080840192/PGVIq8rK_normal.jpg', 'profile_banner_url': 'https://pbs.twimg.com/profile_banners/1318463346253783041/1603521672', 'profile_link_color': '1DA1F2', 'profile_sidebar_border_color': 'C0DEED', 'profile_sidebar_fill_color': 'DDEEF6', 'profile_text_color': '333333', 'profile_use_background_image': True, 'has_extended_profile': True, 'default_profile': True, 'default_profile_image': False, 'following': False, 'follow_request_sent': False, 'notifications': False, 'translator_type': 'none'}, id=1318463346253783041, id_str='1318463346253783041', name='జఫ్ఫా జాస్కోబార్', screen_name='YCP_fools', location='', description='#TDPTWITTER  , #JAIBALAYYA ,@tarak9999 #STOPHINDIIMPOSITION , #హిందీరాదుపోరా ..', url=None, entities={'description': {'urls': []}}, protected=False, followers_count=91, friends_count=399, listed_count=1, created_at=datetime.datetime(2020, 10, 20, 8, 5, 40), favourites_count=1987, utc_offset=None, time_zone=None, geo_enabled=False, verified=False, statuses_count=1264, lang=None, contributors_enabled=False, is_translator=False, is_translation_enabled=False, profile_background_color='F5F8FA', profile_background_image_url=None, profile_background_image_url_https=None, profile_background_tile=False, profile_image_url='http://pbs.twimg.com/profile_images/1319897809080840192/PGVIq8rK_normal.jpg', profile_image_url_https='https://pbs.twimg.com/profile_images/1319897809080840192/PGVIq8rK_normal.jpg', profile_banner_url='https://pbs.twimg.com/profile_banners/1318463346253783041/1603521672', profile_link_color='1DA1F2', profile_sidebar_border_color='C0DEED', profile_sidebar_fill_color='DDEEF6', profile_text_color='333333', profile_use_background_image=True, has_extended_profile=True, default_profile=True, default_profile_image=False, following=False, follow_request_sent=False, notifications=False, translator_type='none'), geo=None, coordinates=None, place=None, contributors=None, is_quote_status=False, retweet_count=0, favorite_count=1, favorited=False, retweeted=False, lang='te'), retweet_count=0, favorite_count=2, favorited=False, retweeted=False, possibly_sensitive=False, lang='en') \n",
      "\n",
      ".....................................\n",
      "\n",
      "Status(_api=<tweepy.api.API object at 0x000001EFAA8CD588>, _json={'created_at': 'Mon Nov 02 10:24:29 +0000 2020', 'id': 1323209355861266432, 'id_str': '1323209355861266432', 'full_text': \"@AlwaysHitler45 @Bhishma_7 I'm from Karnataka I'm only fan of NTR❤️\", 'truncated': False, 'display_text_range': [27, 67], 'entities': {'hashtags': [], 'symbols': [], 'user_mentions': [{'screen_name': 'AlwaysHitler45', 'name': 'Ή I Ƭ ᄂ Σ Я 😎', 'id': 288208565, 'id_str': '288208565', 'indices': [0, 15]}, {'screen_name': 'Bhishma_7', 'name': 'మొగలి రేకులు - మున్న', 'id': 1199037521360932864, 'id_str': '1199037521360932864', 'indices': [16, 26]}], 'urls': []}, 'metadata': {'iso_language_code': 'en', 'result_type': 'recent'}, 'source': '<a href=\"http://twitter.com/download/android\" rel=\"nofollow\">Twitter for Android</a>', 'in_reply_to_status_id': 1323186332349329410, 'in_reply_to_status_id_str': '1323186332349329410', 'in_reply_to_user_id': 288208565, 'in_reply_to_user_id_str': '288208565', 'in_reply_to_screen_name': 'AlwaysHitler45', 'user': {'id': 1309790411850874882, 'id_str': '1309790411850874882', 'name': 'Kiran Kumar', 'screen_name': 'ku41449835', 'location': 'Bengaluru, India', 'description': '🐯', 'url': None, 'entities': {'description': {'urls': []}}, 'protected': False, 'followers_count': 420, 'friends_count': 1935, 'listed_count': 0, 'created_at': 'Sat Sep 26 09:42:41 +0000 2020', 'favourites_count': 13871, 'utc_offset': None, 'time_zone': None, 'geo_enabled': False, 'verified': False, 'statuses_count': 6028, 'lang': None, 'contributors_enabled': False, 'is_translator': False, 'is_translation_enabled': False, 'profile_background_color': 'F5F8FA', 'profile_background_image_url': None, 'profile_background_image_url_https': None, 'profile_background_tile': False, 'profile_image_url': 'http://pbs.twimg.com/profile_images/1320212322384703492/cLz0R9A7_normal.jpg', 'profile_image_url_https': 'https://pbs.twimg.com/profile_images/1320212322384703492/cLz0R9A7_normal.jpg', 'profile_banner_url': 'https://pbs.twimg.com/profile_banners/1309790411850874882/1601114753', 'profile_link_color': '1DA1F2', 'profile_sidebar_border_color': 'C0DEED', 'profile_sidebar_fill_color': 'DDEEF6', 'profile_text_color': '333333', 'profile_use_background_image': True, 'has_extended_profile': True, 'default_profile': True, 'default_profile_image': False, 'following': False, 'follow_request_sent': False, 'notifications': False, 'translator_type': 'none'}, 'geo': None, 'coordinates': None, 'place': None, 'contributors': None, 'is_quote_status': False, 'retweet_count': 0, 'favorite_count': 0, 'favorited': False, 'retweeted': False, 'lang': 'en'}, created_at=datetime.datetime(2020, 11, 2, 10, 24, 29), id=1323209355861266432, id_str='1323209355861266432', full_text=\"@AlwaysHitler45 @Bhishma_7 I'm from Karnataka I'm only fan of NTR❤️\", truncated=False, display_text_range=[27, 67], entities={'hashtags': [], 'symbols': [], 'user_mentions': [{'screen_name': 'AlwaysHitler45', 'name': 'Ή I Ƭ ᄂ Σ Я 😎', 'id': 288208565, 'id_str': '288208565', 'indices': [0, 15]}, {'screen_name': 'Bhishma_7', 'name': 'మొగలి రేకులు - మున్న', 'id': 1199037521360932864, 'id_str': '1199037521360932864', 'indices': [16, 26]}], 'urls': []}, metadata={'iso_language_code': 'en', 'result_type': 'recent'}, source='Twitter for Android', source_url='http://twitter.com/download/android', in_reply_to_status_id=1323186332349329410, in_reply_to_status_id_str='1323186332349329410', in_reply_to_user_id=288208565, in_reply_to_user_id_str='288208565', in_reply_to_screen_name='AlwaysHitler45', author=User(_api=<tweepy.api.API object at 0x000001EFAA8CD588>, _json={'id': 1309790411850874882, 'id_str': '1309790411850874882', 'name': 'Kiran Kumar', 'screen_name': 'ku41449835', 'location': 'Bengaluru, India', 'description': '🐯', 'url': None, 'entities': {'description': {'urls': []}}, 'protected': False, 'followers_count': 420, 'friends_count': 1935, 'listed_count': 0, 'created_at': 'Sat Sep 26 09:42:41 +0000 2020', 'favourites_count': 13871, 'utc_offset': None, 'time_zone': None, 'geo_enabled': False, 'verified': False, 'statuses_count': 6028, 'lang': None, 'contributors_enabled': False, 'is_translator': False, 'is_translation_enabled': False, 'profile_background_color': 'F5F8FA', 'profile_background_image_url': None, 'profile_background_image_url_https': None, 'profile_background_tile': False, 'profile_image_url': 'http://pbs.twimg.com/profile_images/1320212322384703492/cLz0R9A7_normal.jpg', 'profile_image_url_https': 'https://pbs.twimg.com/profile_images/1320212322384703492/cLz0R9A7_normal.jpg', 'profile_banner_url': 'https://pbs.twimg.com/profile_banners/1309790411850874882/1601114753', 'profile_link_color': '1DA1F2', 'profile_sidebar_border_color': 'C0DEED', 'profile_sidebar_fill_color': 'DDEEF6', 'profile_text_color': '333333', 'profile_use_background_image': True, 'has_extended_profile': True, 'default_profile': True, 'default_profile_image': False, 'following': False, 'follow_request_sent': False, 'notifications': False, 'translator_type': 'none'}, id=1309790411850874882, id_str='1309790411850874882', name='Kiran Kumar', screen_name='ku41449835', location='Bengaluru, India', description='🐯', url=None, entities={'description': {'urls': []}}, protected=False, followers_count=420, friends_count=1935, listed_count=0, created_at=datetime.datetime(2020, 9, 26, 9, 42, 41), favourites_count=13871, utc_offset=None, time_zone=None, geo_enabled=False, verified=False, statuses_count=6028, lang=None, contributors_enabled=False, is_translator=False, is_translation_enabled=False, profile_background_color='F5F8FA', profile_background_image_url=None, profile_background_image_url_https=None, profile_background_tile=False, profile_image_url='http://pbs.twimg.com/profile_images/1320212322384703492/cLz0R9A7_normal.jpg', profile_image_url_https='https://pbs.twimg.com/profile_images/1320212322384703492/cLz0R9A7_normal.jpg', profile_banner_url='https://pbs.twimg.com/profile_banners/1309790411850874882/1601114753', profile_link_color='1DA1F2', profile_sidebar_border_color='C0DEED', profile_sidebar_fill_color='DDEEF6', profile_text_color='333333', profile_use_background_image=True, has_extended_profile=True, default_profile=True, default_profile_image=False, following=False, follow_request_sent=False, notifications=False, translator_type='none'), user=User(_api=<tweepy.api.API object at 0x000001EFAA8CD588>, _json={'id': 1309790411850874882, 'id_str': '1309790411850874882', 'name': 'Kiran Kumar', 'screen_name': 'ku41449835', 'location': 'Bengaluru, India', 'description': '🐯', 'url': None, 'entities': {'description': {'urls': []}}, 'protected': False, 'followers_count': 420, 'friends_count': 1935, 'listed_count': 0, 'created_at': 'Sat Sep 26 09:42:41 +0000 2020', 'favourites_count': 13871, 'utc_offset': None, 'time_zone': None, 'geo_enabled': False, 'verified': False, 'statuses_count': 6028, 'lang': None, 'contributors_enabled': False, 'is_translator': False, 'is_translation_enabled': False, 'profile_background_color': 'F5F8FA', 'profile_background_image_url': None, 'profile_background_image_url_https': None, 'profile_background_tile': False, 'profile_image_url': 'http://pbs.twimg.com/profile_images/1320212322384703492/cLz0R9A7_normal.jpg', 'profile_image_url_https': 'https://pbs.twimg.com/profile_images/1320212322384703492/cLz0R9A7_normal.jpg', 'profile_banner_url': 'https://pbs.twimg.com/profile_banners/1309790411850874882/1601114753', 'profile_link_color': '1DA1F2', 'profile_sidebar_border_color': 'C0DEED', 'profile_sidebar_fill_color': 'DDEEF6', 'profile_text_color': '333333', 'profile_use_background_image': True, 'has_extended_profile': True, 'default_profile': True, 'default_profile_image': False, 'following': False, 'follow_request_sent': False, 'notifications': False, 'translator_type': 'none'}, id=1309790411850874882, id_str='1309790411850874882', name='Kiran Kumar', screen_name='ku41449835', location='Bengaluru, India', description='🐯', url=None, entities={'description': {'urls': []}}, protected=False, followers_count=420, friends_count=1935, listed_count=0, created_at=datetime.datetime(2020, 9, 26, 9, 42, 41), favourites_count=13871, utc_offset=None, time_zone=None, geo_enabled=False, verified=False, statuses_count=6028, lang=None, contributors_enabled=False, is_translator=False, is_translation_enabled=False, profile_background_color='F5F8FA', profile_background_image_url=None, profile_background_image_url_https=None, profile_background_tile=False, profile_image_url='http://pbs.twimg.com/profile_images/1320212322384703492/cLz0R9A7_normal.jpg', profile_image_url_https='https://pbs.twimg.com/profile_images/1320212322384703492/cLz0R9A7_normal.jpg', profile_banner_url='https://pbs.twimg.com/profile_banners/1309790411850874882/1601114753', profile_link_color='1DA1F2', profile_sidebar_border_color='C0DEED', profile_sidebar_fill_color='DDEEF6', profile_text_color='333333', profile_use_background_image=True, has_extended_profile=True, default_profile=True, default_profile_image=False, following=False, follow_request_sent=False, notifications=False, translator_type='none'), geo=None, coordinates=None, place=None, contributors=None, is_quote_status=False, retweet_count=0, favorite_count=0, favorited=False, retweeted=False, lang='en') \n",
      "\n",
      ".....................................\n",
      "\n",
      "Status(_api=<tweepy.api.API object at 0x000001EFAA8CD588>, _json={'created_at': 'Mon Nov 02 10:24:23 +0000 2020', 'id': 1323209331739779073, 'id_str': '1323209331739779073', 'full_text': '@Nandachowdarych Hater', 'truncated': False, 'display_text_range': [17, 22], 'entities': {'hashtags': [], 'symbols': [], 'user_mentions': [{'screen_name': 'Nandachowdarych', 'name': 'Vijaymalya', 'id': 2915405119, 'id_str': '2915405119', 'indices': [0, 16]}], 'urls': []}, 'metadata': {'iso_language_code': 'en', 'result_type': 'recent'}, 'source': '<a href=\"http://twitter.com/download/android\" rel=\"nofollow\">Twitter for Android</a>', 'in_reply_to_status_id': 1323207823317086209, 'in_reply_to_status_id_str': '1323207823317086209', 'in_reply_to_user_id': 2915405119, 'in_reply_to_user_id_str': '2915405119', 'in_reply_to_screen_name': 'Nandachowdarych', 'user': {'id': 3515814794, 'id_str': '3515814794', 'name': 'A҉ 🇮🇳', 'screen_name': 'Anusha_Cv_NTR', 'location': 'Bengaluru South, India', 'description': 'Thoughts create life.', 'url': 'https://t.co/SIUN8ZRFFA', 'entities': {'url': {'urls': [{'url': 'https://t.co/SIUN8ZRFFA', 'expanded_url': 'https://m.facebook.com/home.php', 'display_url': 'm.facebook.com/home.php', 'indices': [0, 23]}]}, 'description': {'urls': []}}, 'protected': False, 'followers_count': 9285, 'friends_count': 159, 'listed_count': 2, 'created_at': 'Thu Sep 10 13:23:34 +0000 2015', 'favourites_count': 10475, 'utc_offset': None, 'time_zone': None, 'geo_enabled': True, 'verified': False, 'statuses_count': 34258, 'lang': None, 'contributors_enabled': False, 'is_translator': False, 'is_translation_enabled': False, 'profile_background_color': '000000', 'profile_background_image_url': 'http://abs.twimg.com/images/themes/theme1/bg.png', 'profile_background_image_url_https': 'https://abs.twimg.com/images/themes/theme1/bg.png', 'profile_background_tile': False, 'profile_image_url': 'http://pbs.twimg.com/profile_images/1321717405626724352/djtQCIVB_normal.jpg', 'profile_image_url_https': 'https://pbs.twimg.com/profile_images/1321717405626724352/djtQCIVB_normal.jpg', 'profile_banner_url': 'https://pbs.twimg.com/profile_banners/3515814794/1603956893', 'profile_link_color': 'FAB81E', 'profile_sidebar_border_color': '000000', 'profile_sidebar_fill_color': '000000', 'profile_text_color': '000000', 'profile_use_background_image': False, 'has_extended_profile': True, 'default_profile': False, 'default_profile_image': False, 'following': False, 'follow_request_sent': False, 'notifications': False, 'translator_type': 'none'}, 'geo': None, 'coordinates': None, 'place': None, 'contributors': None, 'is_quote_status': False, 'retweet_count': 0, 'favorite_count': 0, 'favorited': False, 'retweeted': False, 'lang': 'en'}, created_at=datetime.datetime(2020, 11, 2, 10, 24, 23), id=1323209331739779073, id_str='1323209331739779073', full_text='@Nandachowdarych Hater', truncated=False, display_text_range=[17, 22], entities={'hashtags': [], 'symbols': [], 'user_mentions': [{'screen_name': 'Nandachowdarych', 'name': 'Vijaymalya', 'id': 2915405119, 'id_str': '2915405119', 'indices': [0, 16]}], 'urls': []}, metadata={'iso_language_code': 'en', 'result_type': 'recent'}, source='Twitter for Android', source_url='http://twitter.com/download/android', in_reply_to_status_id=1323207823317086209, in_reply_to_status_id_str='1323207823317086209', in_reply_to_user_id=2915405119, in_reply_to_user_id_str='2915405119', in_reply_to_screen_name='Nandachowdarych', author=User(_api=<tweepy.api.API object at 0x000001EFAA8CD588>, _json={'id': 3515814794, 'id_str': '3515814794', 'name': 'A҉ 🇮🇳', 'screen_name': 'Anusha_Cv_NTR', 'location': 'Bengaluru South, India', 'description': 'Thoughts create life.', 'url': 'https://t.co/SIUN8ZRFFA', 'entities': {'url': {'urls': [{'url': 'https://t.co/SIUN8ZRFFA', 'expanded_url': 'https://m.facebook.com/home.php', 'display_url': 'm.facebook.com/home.php', 'indices': [0, 23]}]}, 'description': {'urls': []}}, 'protected': False, 'followers_count': 9285, 'friends_count': 159, 'listed_count': 2, 'created_at': 'Thu Sep 10 13:23:34 +0000 2015', 'favourites_count': 10475, 'utc_offset': None, 'time_zone': None, 'geo_enabled': True, 'verified': False, 'statuses_count': 34258, 'lang': None, 'contributors_enabled': False, 'is_translator': False, 'is_translation_enabled': False, 'profile_background_color': '000000', 'profile_background_image_url': 'http://abs.twimg.com/images/themes/theme1/bg.png', 'profile_background_image_url_https': 'https://abs.twimg.com/images/themes/theme1/bg.png', 'profile_background_tile': False, 'profile_image_url': 'http://pbs.twimg.com/profile_images/1321717405626724352/djtQCIVB_normal.jpg', 'profile_image_url_https': 'https://pbs.twimg.com/profile_images/1321717405626724352/djtQCIVB_normal.jpg', 'profile_banner_url': 'https://pbs.twimg.com/profile_banners/3515814794/1603956893', 'profile_link_color': 'FAB81E', 'profile_sidebar_border_color': '000000', 'profile_sidebar_fill_color': '000000', 'profile_text_color': '000000', 'profile_use_background_image': False, 'has_extended_profile': True, 'default_profile': False, 'default_profile_image': False, 'following': False, 'follow_request_sent': False, 'notifications': False, 'translator_type': 'none'}, id=3515814794, id_str='3515814794', name='A҉ 🇮🇳', screen_name='Anusha_Cv_NTR', location='Bengaluru South, India', description='Thoughts create life.', url='https://t.co/SIUN8ZRFFA', entities={'url': {'urls': [{'url': 'https://t.co/SIUN8ZRFFA', 'expanded_url': 'https://m.facebook.com/home.php', 'display_url': 'm.facebook.com/home.php', 'indices': [0, 23]}]}, 'description': {'urls': []}}, protected=False, followers_count=9285, friends_count=159, listed_count=2, created_at=datetime.datetime(2015, 9, 10, 13, 23, 34), favourites_count=10475, utc_offset=None, time_zone=None, geo_enabled=True, verified=False, statuses_count=34258, lang=None, contributors_enabled=False, is_translator=False, is_translation_enabled=False, profile_background_color='000000', profile_background_image_url='http://abs.twimg.com/images/themes/theme1/bg.png', profile_background_image_url_https='https://abs.twimg.com/images/themes/theme1/bg.png', profile_background_tile=False, profile_image_url='http://pbs.twimg.com/profile_images/1321717405626724352/djtQCIVB_normal.jpg', profile_image_url_https='https://pbs.twimg.com/profile_images/1321717405626724352/djtQCIVB_normal.jpg', profile_banner_url='https://pbs.twimg.com/profile_banners/3515814794/1603956893', profile_link_color='FAB81E', profile_sidebar_border_color='000000', profile_sidebar_fill_color='000000', profile_text_color='000000', profile_use_background_image=False, has_extended_profile=True, default_profile=False, default_profile_image=False, following=False, follow_request_sent=False, notifications=False, translator_type='none'), user=User(_api=<tweepy.api.API object at 0x000001EFAA8CD588>, _json={'id': 3515814794, 'id_str': '3515814794', 'name': 'A҉ 🇮🇳', 'screen_name': 'Anusha_Cv_NTR', 'location': 'Bengaluru South, India', 'description': 'Thoughts create life.', 'url': 'https://t.co/SIUN8ZRFFA', 'entities': {'url': {'urls': [{'url': 'https://t.co/SIUN8ZRFFA', 'expanded_url': 'https://m.facebook.com/home.php', 'display_url': 'm.facebook.com/home.php', 'indices': [0, 23]}]}, 'description': {'urls': []}}, 'protected': False, 'followers_count': 9285, 'friends_count': 159, 'listed_count': 2, 'created_at': 'Thu Sep 10 13:23:34 +0000 2015', 'favourites_count': 10475, 'utc_offset': None, 'time_zone': None, 'geo_enabled': True, 'verified': False, 'statuses_count': 34258, 'lang': None, 'contributors_enabled': False, 'is_translator': False, 'is_translation_enabled': False, 'profile_background_color': '000000', 'profile_background_image_url': 'http://abs.twimg.com/images/themes/theme1/bg.png', 'profile_background_image_url_https': 'https://abs.twimg.com/images/themes/theme1/bg.png', 'profile_background_tile': False, 'profile_image_url': 'http://pbs.twimg.com/profile_images/1321717405626724352/djtQCIVB_normal.jpg', 'profile_image_url_https': 'https://pbs.twimg.com/profile_images/1321717405626724352/djtQCIVB_normal.jpg', 'profile_banner_url': 'https://pbs.twimg.com/profile_banners/3515814794/1603956893', 'profile_link_color': 'FAB81E', 'profile_sidebar_border_color': '000000', 'profile_sidebar_fill_color': '000000', 'profile_text_color': '000000', 'profile_use_background_image': False, 'has_extended_profile': True, 'default_profile': False, 'default_profile_image': False, 'following': False, 'follow_request_sent': False, 'notifications': False, 'translator_type': 'none'}, id=3515814794, id_str='3515814794', name='A҉ 🇮🇳', screen_name='Anusha_Cv_NTR', location='Bengaluru South, India', description='Thoughts create life.', url='https://t.co/SIUN8ZRFFA', entities={'url': {'urls': [{'url': 'https://t.co/SIUN8ZRFFA', 'expanded_url': 'https://m.facebook.com/home.php', 'display_url': 'm.facebook.com/home.php', 'indices': [0, 23]}]}, 'description': {'urls': []}}, protected=False, followers_count=9285, friends_count=159, listed_count=2, created_at=datetime.datetime(2015, 9, 10, 13, 23, 34), favourites_count=10475, utc_offset=None, time_zone=None, geo_enabled=True, verified=False, statuses_count=34258, lang=None, contributors_enabled=False, is_translator=False, is_translation_enabled=False, profile_background_color='000000', profile_background_image_url='http://abs.twimg.com/images/themes/theme1/bg.png', profile_background_image_url_https='https://abs.twimg.com/images/themes/theme1/bg.png', profile_background_tile=False, profile_image_url='http://pbs.twimg.com/profile_images/1321717405626724352/djtQCIVB_normal.jpg', profile_image_url_https='https://pbs.twimg.com/profile_images/1321717405626724352/djtQCIVB_normal.jpg', profile_banner_url='https://pbs.twimg.com/profile_banners/3515814794/1603956893', profile_link_color='FAB81E', profile_sidebar_border_color='000000', profile_sidebar_fill_color='000000', profile_text_color='000000', profile_use_background_image=False, has_extended_profile=True, default_profile=False, default_profile_image=False, following=False, follow_request_sent=False, notifications=False, translator_type='none'), geo=None, coordinates=None, place=None, contributors=None, is_quote_status=False, retweet_count=0, favorite_count=0, favorited=False, retweeted=False, lang='en') \n",
      "\n",
      ".....................................\n",
      "\n",
      "Status(_api=<tweepy.api.API object at 0x000001EFAA8CD588>, _json={'created_at': 'Mon Nov 02 10:20:25 +0000 2020', 'id': 1323208333445095426, 'id_str': '1323208333445095426', 'full_text': '@Thalapathy_Ntr Deleted', 'truncated': False, 'display_text_range': [16, 23], 'entities': {'hashtags': [], 'symbols': [], 'user_mentions': [{'screen_name': 'Thalapathy_Ntr', 'name': '💛தெறி டுவிட்டர் தளபதி💛🇮🇳', 'id': 2957200750, 'id_str': '2957200750', 'indices': [0, 15]}], 'urls': []}, 'metadata': {'iso_language_code': 'en', 'result_type': 'recent'}, 'source': '<a href=\"http://twitter.com/download/android\" rel=\"nofollow\">Twitter for Android</a>', 'in_reply_to_status_id': 1323207473654718465, 'in_reply_to_status_id_str': '1323207473654718465', 'in_reply_to_user_id': 2957200750, 'in_reply_to_user_id_str': '2957200750', 'in_reply_to_screen_name': 'Thalapathy_Ntr', 'user': {'id': 1182862167785164801, 'id_str': '1182862167785164801', 'name': 'Tʜᴀʟᴀɪᴠᴀᴀ Aᴊɪ シ︎', 'screen_name': 'itz_Ajiii', 'location': '', 'description': 'Fan of Kollywood No.1 #Thalapathy 👑', 'url': None, 'entities': {'description': {'urls': []}}, 'protected': False, 'followers_count': 1331, 'friends_count': 588, 'listed_count': 0, 'created_at': 'Sat Oct 12 03:35:01 +0000 2019', 'favourites_count': 16982, 'utc_offset': None, 'time_zone': None, 'geo_enabled': False, 'verified': False, 'statuses_count': 24172, 'lang': None, 'contributors_enabled': False, 'is_translator': False, 'is_translation_enabled': False, 'profile_background_color': 'F5F8FA', 'profile_background_image_url': None, 'profile_background_image_url_https': None, 'profile_background_tile': False, 'profile_image_url': 'http://pbs.twimg.com/profile_images/1321117504781963265/_Gnq1b9W_normal.jpg', 'profile_image_url_https': 'https://pbs.twimg.com/profile_images/1321117504781963265/_Gnq1b9W_normal.jpg', 'profile_banner_url': 'https://pbs.twimg.com/profile_banners/1182862167785164801/1603468669', 'profile_link_color': '1DA1F2', 'profile_sidebar_border_color': 'C0DEED', 'profile_sidebar_fill_color': 'DDEEF6', 'profile_text_color': '333333', 'profile_use_background_image': True, 'has_extended_profile': True, 'default_profile': True, 'default_profile_image': False, 'following': False, 'follow_request_sent': False, 'notifications': False, 'translator_type': 'none'}, 'geo': None, 'coordinates': None, 'place': None, 'contributors': None, 'is_quote_status': False, 'retweet_count': 0, 'favorite_count': 0, 'favorited': False, 'retweeted': False, 'lang': 'en'}, created_at=datetime.datetime(2020, 11, 2, 10, 20, 25), id=1323208333445095426, id_str='1323208333445095426', full_text='@Thalapathy_Ntr Deleted', truncated=False, display_text_range=[16, 23], entities={'hashtags': [], 'symbols': [], 'user_mentions': [{'screen_name': 'Thalapathy_Ntr', 'name': '💛தெறி டுவிட்டர் தளபதி💛🇮🇳', 'id': 2957200750, 'id_str': '2957200750', 'indices': [0, 15]}], 'urls': []}, metadata={'iso_language_code': 'en', 'result_type': 'recent'}, source='Twitter for Android', source_url='http://twitter.com/download/android', in_reply_to_status_id=1323207473654718465, in_reply_to_status_id_str='1323207473654718465', in_reply_to_user_id=2957200750, in_reply_to_user_id_str='2957200750', in_reply_to_screen_name='Thalapathy_Ntr', author=User(_api=<tweepy.api.API object at 0x000001EFAA8CD588>, _json={'id': 1182862167785164801, 'id_str': '1182862167785164801', 'name': 'Tʜᴀʟᴀɪᴠᴀᴀ Aᴊɪ シ︎', 'screen_name': 'itz_Ajiii', 'location': '', 'description': 'Fan of Kollywood No.1 #Thalapathy 👑', 'url': None, 'entities': {'description': {'urls': []}}, 'protected': False, 'followers_count': 1331, 'friends_count': 588, 'listed_count': 0, 'created_at': 'Sat Oct 12 03:35:01 +0000 2019', 'favourites_count': 16982, 'utc_offset': None, 'time_zone': None, 'geo_enabled': False, 'verified': False, 'statuses_count': 24172, 'lang': None, 'contributors_enabled': False, 'is_translator': False, 'is_translation_enabled': False, 'profile_background_color': 'F5F8FA', 'profile_background_image_url': None, 'profile_background_image_url_https': None, 'profile_background_tile': False, 'profile_image_url': 'http://pbs.twimg.com/profile_images/1321117504781963265/_Gnq1b9W_normal.jpg', 'profile_image_url_https': 'https://pbs.twimg.com/profile_images/1321117504781963265/_Gnq1b9W_normal.jpg', 'profile_banner_url': 'https://pbs.twimg.com/profile_banners/1182862167785164801/1603468669', 'profile_link_color': '1DA1F2', 'profile_sidebar_border_color': 'C0DEED', 'profile_sidebar_fill_color': 'DDEEF6', 'profile_text_color': '333333', 'profile_use_background_image': True, 'has_extended_profile': True, 'default_profile': True, 'default_profile_image': False, 'following': False, 'follow_request_sent': False, 'notifications': False, 'translator_type': 'none'}, id=1182862167785164801, id_str='1182862167785164801', name='Tʜᴀʟᴀɪᴠᴀᴀ Aᴊɪ シ︎', screen_name='itz_Ajiii', location='', description='Fan of Kollywood No.1 #Thalapathy 👑', url=None, entities={'description': {'urls': []}}, protected=False, followers_count=1331, friends_count=588, listed_count=0, created_at=datetime.datetime(2019, 10, 12, 3, 35, 1), favourites_count=16982, utc_offset=None, time_zone=None, geo_enabled=False, verified=False, statuses_count=24172, lang=None, contributors_enabled=False, is_translator=False, is_translation_enabled=False, profile_background_color='F5F8FA', profile_background_image_url=None, profile_background_image_url_https=None, profile_background_tile=False, profile_image_url='http://pbs.twimg.com/profile_images/1321117504781963265/_Gnq1b9W_normal.jpg', profile_image_url_https='https://pbs.twimg.com/profile_images/1321117504781963265/_Gnq1b9W_normal.jpg', profile_banner_url='https://pbs.twimg.com/profile_banners/1182862167785164801/1603468669', profile_link_color='1DA1F2', profile_sidebar_border_color='C0DEED', profile_sidebar_fill_color='DDEEF6', profile_text_color='333333', profile_use_background_image=True, has_extended_profile=True, default_profile=True, default_profile_image=False, following=False, follow_request_sent=False, notifications=False, translator_type='none'), user=User(_api=<tweepy.api.API object at 0x000001EFAA8CD588>, _json={'id': 1182862167785164801, 'id_str': '1182862167785164801', 'name': 'Tʜᴀʟᴀɪᴠᴀᴀ Aᴊɪ シ︎', 'screen_name': 'itz_Ajiii', 'location': '', 'description': 'Fan of Kollywood No.1 #Thalapathy 👑', 'url': None, 'entities': {'description': {'urls': []}}, 'protected': False, 'followers_count': 1331, 'friends_count': 588, 'listed_count': 0, 'created_at': 'Sat Oct 12 03:35:01 +0000 2019', 'favourites_count': 16982, 'utc_offset': None, 'time_zone': None, 'geo_enabled': False, 'verified': False, 'statuses_count': 24172, 'lang': None, 'contributors_enabled': False, 'is_translator': False, 'is_translation_enabled': False, 'profile_background_color': 'F5F8FA', 'profile_background_image_url': None, 'profile_background_image_url_https': None, 'profile_background_tile': False, 'profile_image_url': 'http://pbs.twimg.com/profile_images/1321117504781963265/_Gnq1b9W_normal.jpg', 'profile_image_url_https': 'https://pbs.twimg.com/profile_images/1321117504781963265/_Gnq1b9W_normal.jpg', 'profile_banner_url': 'https://pbs.twimg.com/profile_banners/1182862167785164801/1603468669', 'profile_link_color': '1DA1F2', 'profile_sidebar_border_color': 'C0DEED', 'profile_sidebar_fill_color': 'DDEEF6', 'profile_text_color': '333333', 'profile_use_background_image': True, 'has_extended_profile': True, 'default_profile': True, 'default_profile_image': False, 'following': False, 'follow_request_sent': False, 'notifications': False, 'translator_type': 'none'}, id=1182862167785164801, id_str='1182862167785164801', name='Tʜᴀʟᴀɪᴠᴀᴀ Aᴊɪ シ︎', screen_name='itz_Ajiii', location='', description='Fan of Kollywood No.1 #Thalapathy 👑', url=None, entities={'description': {'urls': []}}, protected=False, followers_count=1331, friends_count=588, listed_count=0, created_at=datetime.datetime(2019, 10, 12, 3, 35, 1), favourites_count=16982, utc_offset=None, time_zone=None, geo_enabled=False, verified=False, statuses_count=24172, lang=None, contributors_enabled=False, is_translator=False, is_translation_enabled=False, profile_background_color='F5F8FA', profile_background_image_url=None, profile_background_image_url_https=None, profile_background_tile=False, profile_image_url='http://pbs.twimg.com/profile_images/1321117504781963265/_Gnq1b9W_normal.jpg', profile_image_url_https='https://pbs.twimg.com/profile_images/1321117504781963265/_Gnq1b9W_normal.jpg', profile_banner_url='https://pbs.twimg.com/profile_banners/1182862167785164801/1603468669', profile_link_color='1DA1F2', profile_sidebar_border_color='C0DEED', profile_sidebar_fill_color='DDEEF6', profile_text_color='333333', profile_use_background_image=True, has_extended_profile=True, default_profile=True, default_profile_image=False, following=False, follow_request_sent=False, notifications=False, translator_type='none'), geo=None, coordinates=None, place=None, contributors=None, is_quote_status=False, retweet_count=0, favorite_count=0, favorited=False, retweeted=False, lang='en') \n",
      "\n",
      ".....................................\n",
      "\n",
      "Status(_api=<tweepy.api.API object at 0x000001EFAA8CD588>, _json={'created_at': 'Mon Nov 02 10:19:47 +0000 2020', 'id': 1323208172748697603, 'id_str': '1323208172748697603', 'full_text': '@maheshBujji9999 @tarak9999 @NTR_Charities @TeamTarakTrust Super...! https://t.co/h7HWBSonsP', 'truncated': False, 'display_text_range': [59, 68], 'entities': {'hashtags': [], 'symbols': [], 'user_mentions': [{'screen_name': 'maheshBujji9999', 'name': 'Mahesh తారక్_వీరాభిమాని', 'id': 855960349, 'id_str': '855960349', 'indices': [0, 16]}, {'screen_name': 'tarak9999', 'name': 'Jr NTR', 'id': 75823831, 'id_str': '75823831', 'indices': [17, 27]}, {'screen_name': 'NTR_Charities', 'name': 'NTR Charitable Services', 'id': 1201813048035434498, 'id_str': '1201813048035434498', 'indices': [28, 42]}, {'screen_name': 'TeamTarakTrust', 'name': 'Team Tarak Trust ®', 'id': 1081579004975607808, 'id_str': '1081579004975607808', 'indices': [43, 58]}], 'urls': [], 'media': [{'id': 1323208169082945536, 'id_str': '1323208169082945536', 'indices': [69, 92], 'media_url': 'http://pbs.twimg.com/media/Elz60bIVgAAd0TS.jpg', 'media_url_https': 'https://pbs.twimg.com/media/Elz60bIVgAAd0TS.jpg', 'url': 'https://t.co/h7HWBSonsP', 'display_url': 'pic.twitter.com/h7HWBSonsP', 'expanded_url': 'https://twitter.com/PramodChowdar20/status/1323208172748697603/photo/1', 'type': 'photo', 'sizes': {'thumb': {'w': 150, 'h': 150, 'resize': 'crop'}, 'medium': {'w': 1077, 'h': 425, 'resize': 'fit'}, 'small': {'w': 680, 'h': 268, 'resize': 'fit'}, 'large': {'w': 1077, 'h': 425, 'resize': 'fit'}}}]}, 'extended_entities': {'media': [{'id': 1323208169082945536, 'id_str': '1323208169082945536', 'indices': [69, 92], 'media_url': 'http://pbs.twimg.com/media/Elz60bIVgAAd0TS.jpg', 'media_url_https': 'https://pbs.twimg.com/media/Elz60bIVgAAd0TS.jpg', 'url': 'https://t.co/h7HWBSonsP', 'display_url': 'pic.twitter.com/h7HWBSonsP', 'expanded_url': 'https://twitter.com/PramodChowdar20/status/1323208172748697603/photo/1', 'type': 'photo', 'sizes': {'thumb': {'w': 150, 'h': 150, 'resize': 'crop'}, 'medium': {'w': 1077, 'h': 425, 'resize': 'fit'}, 'small': {'w': 680, 'h': 268, 'resize': 'fit'}, 'large': {'w': 1077, 'h': 425, 'resize': 'fit'}}}]}, 'metadata': {'iso_language_code': 'en', 'result_type': 'recent'}, 'source': '<a href=\"http://twitter.com/download/android\" rel=\"nofollow\">Twitter for Android</a>', 'in_reply_to_status_id': 1323165638299299843, 'in_reply_to_status_id_str': '1323165638299299843', 'in_reply_to_user_id': 855960349, 'in_reply_to_user_id_str': '855960349', 'in_reply_to_screen_name': 'maheshBujji9999', 'user': {'id': 1251233626362048512, 'id_str': '1251233626362048512', 'name': 'Justice_Chowdary89', 'screen_name': 'PramodChowdar20', 'location': 'Jaggayyapeta, India', 'description': 'ᵖᵉᵒᵖˡᵉ ʷⁱᵗʰ ˢᵗᵃᵗᵘˢ ᵈᵒⁿ’ᵗ ᴄᴏᴍᴘʀᴏᴍɪsᴇ😎\\n🕉️𝒐𝒎𝑺𝑹𝑰𝑹𝑨𝑴🙏\\n|| 𝑱𝒂𝒊 𝒃𝒂𝒍𝒂𝒚𝒚𝒂💪🏻 ||Student👔 ||ֆ𝓲𝓷𝓰𝓵𝓮🦋 ||𝐘𝐨𝐥𝐨✌🏻', 'url': None, 'entities': {'description': {'urls': []}}, 'protected': False, 'followers_count': 37, 'friends_count': 352, 'listed_count': 0, 'created_at': 'Fri Apr 17 19:39:16 +0000 2020', 'favourites_count': 4001, 'utc_offset': None, 'time_zone': None, 'geo_enabled': False, 'verified': False, 'statuses_count': 3614, 'lang': None, 'contributors_enabled': False, 'is_translator': False, 'is_translation_enabled': False, 'profile_background_color': 'F5F8FA', 'profile_background_image_url': None, 'profile_background_image_url_https': None, 'profile_background_tile': False, 'profile_image_url': 'http://pbs.twimg.com/profile_images/1318022925216321538/Y9TcEzkQ_normal.jpg', 'profile_image_url_https': 'https://pbs.twimg.com/profile_images/1318022925216321538/Y9TcEzkQ_normal.jpg', 'profile_banner_url': 'https://pbs.twimg.com/profile_banners/1251233626362048512/1587152714', 'profile_link_color': '1DA1F2', 'profile_sidebar_border_color': 'C0DEED', 'profile_sidebar_fill_color': 'DDEEF6', 'profile_text_color': '333333', 'profile_use_background_image': True, 'has_extended_profile': True, 'default_profile': True, 'default_profile_image': False, 'following': False, 'follow_request_sent': False, 'notifications': False, 'translator_type': 'none'}, 'geo': None, 'coordinates': None, 'place': None, 'contributors': None, 'is_quote_status': False, 'retweet_count': 0, 'favorite_count': 0, 'favorited': False, 'retweeted': False, 'possibly_sensitive': False, 'lang': 'en'}, created_at=datetime.datetime(2020, 11, 2, 10, 19, 47), id=1323208172748697603, id_str='1323208172748697603', full_text='@maheshBujji9999 @tarak9999 @NTR_Charities @TeamTarakTrust Super...! https://t.co/h7HWBSonsP', truncated=False, display_text_range=[59, 68], entities={'hashtags': [], 'symbols': [], 'user_mentions': [{'screen_name': 'maheshBujji9999', 'name': 'Mahesh తారక్_వీరాభిమాని', 'id': 855960349, 'id_str': '855960349', 'indices': [0, 16]}, {'screen_name': 'tarak9999', 'name': 'Jr NTR', 'id': 75823831, 'id_str': '75823831', 'indices': [17, 27]}, {'screen_name': 'NTR_Charities', 'name': 'NTR Charitable Services', 'id': 1201813048035434498, 'id_str': '1201813048035434498', 'indices': [28, 42]}, {'screen_name': 'TeamTarakTrust', 'name': 'Team Tarak Trust ®', 'id': 1081579004975607808, 'id_str': '1081579004975607808', 'indices': [43, 58]}], 'urls': [], 'media': [{'id': 1323208169082945536, 'id_str': '1323208169082945536', 'indices': [69, 92], 'media_url': 'http://pbs.twimg.com/media/Elz60bIVgAAd0TS.jpg', 'media_url_https': 'https://pbs.twimg.com/media/Elz60bIVgAAd0TS.jpg', 'url': 'https://t.co/h7HWBSonsP', 'display_url': 'pic.twitter.com/h7HWBSonsP', 'expanded_url': 'https://twitter.com/PramodChowdar20/status/1323208172748697603/photo/1', 'type': 'photo', 'sizes': {'thumb': {'w': 150, 'h': 150, 'resize': 'crop'}, 'medium': {'w': 1077, 'h': 425, 'resize': 'fit'}, 'small': {'w': 680, 'h': 268, 'resize': 'fit'}, 'large': {'w': 1077, 'h': 425, 'resize': 'fit'}}}]}, extended_entities={'media': [{'id': 1323208169082945536, 'id_str': '1323208169082945536', 'indices': [69, 92], 'media_url': 'http://pbs.twimg.com/media/Elz60bIVgAAd0TS.jpg', 'media_url_https': 'https://pbs.twimg.com/media/Elz60bIVgAAd0TS.jpg', 'url': 'https://t.co/h7HWBSonsP', 'display_url': 'pic.twitter.com/h7HWBSonsP', 'expanded_url': 'https://twitter.com/PramodChowdar20/status/1323208172748697603/photo/1', 'type': 'photo', 'sizes': {'thumb': {'w': 150, 'h': 150, 'resize': 'crop'}, 'medium': {'w': 1077, 'h': 425, 'resize': 'fit'}, 'small': {'w': 680, 'h': 268, 'resize': 'fit'}, 'large': {'w': 1077, 'h': 425, 'resize': 'fit'}}}]}, metadata={'iso_language_code': 'en', 'result_type': 'recent'}, source='Twitter for Android', source_url='http://twitter.com/download/android', in_reply_to_status_id=1323165638299299843, in_reply_to_status_id_str='1323165638299299843', in_reply_to_user_id=855960349, in_reply_to_user_id_str='855960349', in_reply_to_screen_name='maheshBujji9999', author=User(_api=<tweepy.api.API object at 0x000001EFAA8CD588>, _json={'id': 1251233626362048512, 'id_str': '1251233626362048512', 'name': 'Justice_Chowdary89', 'screen_name': 'PramodChowdar20', 'location': 'Jaggayyapeta, India', 'description': 'ᵖᵉᵒᵖˡᵉ ʷⁱᵗʰ ˢᵗᵃᵗᵘˢ ᵈᵒⁿ’ᵗ ᴄᴏᴍᴘʀᴏᴍɪsᴇ😎\\n🕉️𝒐𝒎𝑺𝑹𝑰𝑹𝑨𝑴🙏\\n|| 𝑱𝒂𝒊 𝒃𝒂𝒍𝒂𝒚𝒚𝒂💪🏻 ||Student👔 ||ֆ𝓲𝓷𝓰𝓵𝓮🦋 ||𝐘𝐨𝐥𝐨✌🏻', 'url': None, 'entities': {'description': {'urls': []}}, 'protected': False, 'followers_count': 37, 'friends_count': 352, 'listed_count': 0, 'created_at': 'Fri Apr 17 19:39:16 +0000 2020', 'favourites_count': 4001, 'utc_offset': None, 'time_zone': None, 'geo_enabled': False, 'verified': False, 'statuses_count': 3614, 'lang': None, 'contributors_enabled': False, 'is_translator': False, 'is_translation_enabled': False, 'profile_background_color': 'F5F8FA', 'profile_background_image_url': None, 'profile_background_image_url_https': None, 'profile_background_tile': False, 'profile_image_url': 'http://pbs.twimg.com/profile_images/1318022925216321538/Y9TcEzkQ_normal.jpg', 'profile_image_url_https': 'https://pbs.twimg.com/profile_images/1318022925216321538/Y9TcEzkQ_normal.jpg', 'profile_banner_url': 'https://pbs.twimg.com/profile_banners/1251233626362048512/1587152714', 'profile_link_color': '1DA1F2', 'profile_sidebar_border_color': 'C0DEED', 'profile_sidebar_fill_color': 'DDEEF6', 'profile_text_color': '333333', 'profile_use_background_image': True, 'has_extended_profile': True, 'default_profile': True, 'default_profile_image': False, 'following': False, 'follow_request_sent': False, 'notifications': False, 'translator_type': 'none'}, id=1251233626362048512, id_str='1251233626362048512', name='Justice_Chowdary89', screen_name='PramodChowdar20', location='Jaggayyapeta, India', description='ᵖᵉᵒᵖˡᵉ ʷⁱᵗʰ ˢᵗᵃᵗᵘˢ ᵈᵒⁿ’ᵗ ᴄᴏᴍᴘʀᴏᴍɪsᴇ😎\\n🕉️𝒐𝒎𝑺𝑹𝑰𝑹𝑨𝑴🙏\\n|| 𝑱𝒂𝒊 𝒃𝒂𝒍𝒂𝒚𝒚𝒂💪🏻 ||Student👔 ||ֆ𝓲𝓷𝓰𝓵𝓮🦋 ||𝐘𝐨𝐥𝐨✌🏻', url=None, entities={'description': {'urls': []}}, protected=False, followers_count=37, friends_count=352, listed_count=0, created_at=datetime.datetime(2020, 4, 17, 19, 39, 16), favourites_count=4001, utc_offset=None, time_zone=None, geo_enabled=False, verified=False, statuses_count=3614, lang=None, contributors_enabled=False, is_translator=False, is_translation_enabled=False, profile_background_color='F5F8FA', profile_background_image_url=None, profile_background_image_url_https=None, profile_background_tile=False, profile_image_url='http://pbs.twimg.com/profile_images/1318022925216321538/Y9TcEzkQ_normal.jpg', profile_image_url_https='https://pbs.twimg.com/profile_images/1318022925216321538/Y9TcEzkQ_normal.jpg', profile_banner_url='https://pbs.twimg.com/profile_banners/1251233626362048512/1587152714', profile_link_color='1DA1F2', profile_sidebar_border_color='C0DEED', profile_sidebar_fill_color='DDEEF6', profile_text_color='333333', profile_use_background_image=True, has_extended_profile=True, default_profile=True, default_profile_image=False, following=False, follow_request_sent=False, notifications=False, translator_type='none'), user=User(_api=<tweepy.api.API object at 0x000001EFAA8CD588>, _json={'id': 1251233626362048512, 'id_str': '1251233626362048512', 'name': 'Justice_Chowdary89', 'screen_name': 'PramodChowdar20', 'location': 'Jaggayyapeta, India', 'description': 'ᵖᵉᵒᵖˡᵉ ʷⁱᵗʰ ˢᵗᵃᵗᵘˢ ᵈᵒⁿ’ᵗ ᴄᴏᴍᴘʀᴏᴍɪsᴇ😎\\n🕉️𝒐𝒎𝑺𝑹𝑰𝑹𝑨𝑴🙏\\n|| 𝑱𝒂𝒊 𝒃𝒂𝒍𝒂𝒚𝒚𝒂💪🏻 ||Student👔 ||ֆ𝓲𝓷𝓰𝓵𝓮🦋 ||𝐘𝐨𝐥𝐨✌🏻', 'url': None, 'entities': {'description': {'urls': []}}, 'protected': False, 'followers_count': 37, 'friends_count': 352, 'listed_count': 0, 'created_at': 'Fri Apr 17 19:39:16 +0000 2020', 'favourites_count': 4001, 'utc_offset': None, 'time_zone': None, 'geo_enabled': False, 'verified': False, 'statuses_count': 3614, 'lang': None, 'contributors_enabled': False, 'is_translator': False, 'is_translation_enabled': False, 'profile_background_color': 'F5F8FA', 'profile_background_image_url': None, 'profile_background_image_url_https': None, 'profile_background_tile': False, 'profile_image_url': 'http://pbs.twimg.com/profile_images/1318022925216321538/Y9TcEzkQ_normal.jpg', 'profile_image_url_https': 'https://pbs.twimg.com/profile_images/1318022925216321538/Y9TcEzkQ_normal.jpg', 'profile_banner_url': 'https://pbs.twimg.com/profile_banners/1251233626362048512/1587152714', 'profile_link_color': '1DA1F2', 'profile_sidebar_border_color': 'C0DEED', 'profile_sidebar_fill_color': 'DDEEF6', 'profile_text_color': '333333', 'profile_use_background_image': True, 'has_extended_profile': True, 'default_profile': True, 'default_profile_image': False, 'following': False, 'follow_request_sent': False, 'notifications': False, 'translator_type': 'none'}, id=1251233626362048512, id_str='1251233626362048512', name='Justice_Chowdary89', screen_name='PramodChowdar20', location='Jaggayyapeta, India', description='ᵖᵉᵒᵖˡᵉ ʷⁱᵗʰ ˢᵗᵃᵗᵘˢ ᵈᵒⁿ’ᵗ ᴄᴏᴍᴘʀᴏᴍɪsᴇ😎\\n🕉️𝒐𝒎𝑺𝑹𝑰𝑹𝑨𝑴🙏\\n|| 𝑱𝒂𝒊 𝒃𝒂𝒍𝒂𝒚𝒚𝒂💪🏻 ||Student👔 ||ֆ𝓲𝓷𝓰𝓵𝓮🦋 ||𝐘𝐨𝐥𝐨✌🏻', url=None, entities={'description': {'urls': []}}, protected=False, followers_count=37, friends_count=352, listed_count=0, created_at=datetime.datetime(2020, 4, 17, 19, 39, 16), favourites_count=4001, utc_offset=None, time_zone=None, geo_enabled=False, verified=False, statuses_count=3614, lang=None, contributors_enabled=False, is_translator=False, is_translation_enabled=False, profile_background_color='F5F8FA', profile_background_image_url=None, profile_background_image_url_https=None, profile_background_tile=False, profile_image_url='http://pbs.twimg.com/profile_images/1318022925216321538/Y9TcEzkQ_normal.jpg', profile_image_url_https='https://pbs.twimg.com/profile_images/1318022925216321538/Y9TcEzkQ_normal.jpg', profile_banner_url='https://pbs.twimg.com/profile_banners/1251233626362048512/1587152714', profile_link_color='1DA1F2', profile_sidebar_border_color='C0DEED', profile_sidebar_fill_color='DDEEF6', profile_text_color='333333', profile_use_background_image=True, has_extended_profile=True, default_profile=True, default_profile_image=False, following=False, follow_request_sent=False, notifications=False, translator_type='none'), geo=None, coordinates=None, place=None, contributors=None, is_quote_status=False, retweet_count=0, favorite_count=0, favorited=False, retweeted=False, possibly_sensitive=False, lang='en') \n",
      "\n",
      ".....................................\n",
      "\n",
      "Status(_api=<tweepy.api.API object at 0x000001EFAA8CD588>, _json={'created_at': 'Mon Nov 02 10:19:25 +0000 2020', 'id': 1323208082214641664, 'id_str': '1323208082214641664', 'full_text': '@Thalapathy_Ntr deleted bro', 'truncated': False, 'display_text_range': [16, 27], 'entities': {'hashtags': [], 'symbols': [], 'user_mentions': [{'screen_name': 'Thalapathy_Ntr', 'name': '💛தெறி டுவிட்டர் தளபதி💛🇮🇳', 'id': 2957200750, 'id_str': '2957200750', 'indices': [0, 15]}], 'urls': []}, 'metadata': {'iso_language_code': 'en', 'result_type': 'recent'}, 'source': '<a href=\"http://twitter.com/download/android\" rel=\"nofollow\">Twitter for Android</a>', 'in_reply_to_status_id': 1323207473654718465, 'in_reply_to_status_id_str': '1323207473654718465', 'in_reply_to_user_id': 2957200750, 'in_reply_to_user_id_str': '2957200750', 'in_reply_to_screen_name': 'Thalapathy_Ntr', 'user': {'id': 3009632269, 'id_str': '3009632269', 'name': 'Mugunth', 'screen_name': 'mugunth08', 'location': 'smriti mandhana heart', 'description': '#vijay admirer #mahesbabu fan \\nlove with #pawankalyan visionary thoughts', 'url': None, 'entities': {'description': {'urls': []}}, 'protected': False, 'followers_count': 965, 'friends_count': 585, 'listed_count': 1, 'created_at': 'Thu Feb 05 01:37:18 +0000 2015', 'favourites_count': 304729, 'utc_offset': None, 'time_zone': None, 'geo_enabled': False, 'verified': False, 'statuses_count': 9518, 'lang': None, 'contributors_enabled': False, 'is_translator': False, 'is_translation_enabled': False, 'profile_background_color': 'C0DEED', 'profile_background_image_url': 'http://abs.twimg.com/images/themes/theme1/bg.png', 'profile_background_image_url_https': 'https://abs.twimg.com/images/themes/theme1/bg.png', 'profile_background_tile': False, 'profile_image_url': 'http://pbs.twimg.com/profile_images/1319688329172905985/b71_-v-h_normal.jpg', 'profile_image_url_https': 'https://pbs.twimg.com/profile_images/1319688329172905985/b71_-v-h_normal.jpg', 'profile_banner_url': 'https://pbs.twimg.com/profile_banners/3009632269/1601096304', 'profile_link_color': '1DA1F2', 'profile_sidebar_border_color': 'C0DEED', 'profile_sidebar_fill_color': 'DDEEF6', 'profile_text_color': '333333', 'profile_use_background_image': True, 'has_extended_profile': True, 'default_profile': True, 'default_profile_image': False, 'following': False, 'follow_request_sent': False, 'notifications': False, 'translator_type': 'none'}, 'geo': None, 'coordinates': None, 'place': None, 'contributors': None, 'is_quote_status': False, 'retweet_count': 0, 'favorite_count': 0, 'favorited': False, 'retweeted': False, 'lang': 'en'}, created_at=datetime.datetime(2020, 11, 2, 10, 19, 25), id=1323208082214641664, id_str='1323208082214641664', full_text='@Thalapathy_Ntr deleted bro', truncated=False, display_text_range=[16, 27], entities={'hashtags': [], 'symbols': [], 'user_mentions': [{'screen_name': 'Thalapathy_Ntr', 'name': '💛தெறி டுவிட்டர் தளபதி💛🇮🇳', 'id': 2957200750, 'id_str': '2957200750', 'indices': [0, 15]}], 'urls': []}, metadata={'iso_language_code': 'en', 'result_type': 'recent'}, source='Twitter for Android', source_url='http://twitter.com/download/android', in_reply_to_status_id=1323207473654718465, in_reply_to_status_id_str='1323207473654718465', in_reply_to_user_id=2957200750, in_reply_to_user_id_str='2957200750', in_reply_to_screen_name='Thalapathy_Ntr', author=User(_api=<tweepy.api.API object at 0x000001EFAA8CD588>, _json={'id': 3009632269, 'id_str': '3009632269', 'name': 'Mugunth', 'screen_name': 'mugunth08', 'location': 'smriti mandhana heart', 'description': '#vijay admirer #mahesbabu fan \\nlove with #pawankalyan visionary thoughts', 'url': None, 'entities': {'description': {'urls': []}}, 'protected': False, 'followers_count': 965, 'friends_count': 585, 'listed_count': 1, 'created_at': 'Thu Feb 05 01:37:18 +0000 2015', 'favourites_count': 304729, 'utc_offset': None, 'time_zone': None, 'geo_enabled': False, 'verified': False, 'statuses_count': 9518, 'lang': None, 'contributors_enabled': False, 'is_translator': False, 'is_translation_enabled': False, 'profile_background_color': 'C0DEED', 'profile_background_image_url': 'http://abs.twimg.com/images/themes/theme1/bg.png', 'profile_background_image_url_https': 'https://abs.twimg.com/images/themes/theme1/bg.png', 'profile_background_tile': False, 'profile_image_url': 'http://pbs.twimg.com/profile_images/1319688329172905985/b71_-v-h_normal.jpg', 'profile_image_url_https': 'https://pbs.twimg.com/profile_images/1319688329172905985/b71_-v-h_normal.jpg', 'profile_banner_url': 'https://pbs.twimg.com/profile_banners/3009632269/1601096304', 'profile_link_color': '1DA1F2', 'profile_sidebar_border_color': 'C0DEED', 'profile_sidebar_fill_color': 'DDEEF6', 'profile_text_color': '333333', 'profile_use_background_image': True, 'has_extended_profile': True, 'default_profile': True, 'default_profile_image': False, 'following': False, 'follow_request_sent': False, 'notifications': False, 'translator_type': 'none'}, id=3009632269, id_str='3009632269', name='Mugunth', screen_name='mugunth08', location='smriti mandhana heart', description='#vijay admirer #mahesbabu fan \\nlove with #pawankalyan visionary thoughts', url=None, entities={'description': {'urls': []}}, protected=False, followers_count=965, friends_count=585, listed_count=1, created_at=datetime.datetime(2015, 2, 5, 1, 37, 18), favourites_count=304729, utc_offset=None, time_zone=None, geo_enabled=False, verified=False, statuses_count=9518, lang=None, contributors_enabled=False, is_translator=False, is_translation_enabled=False, profile_background_color='C0DEED', profile_background_image_url='http://abs.twimg.com/images/themes/theme1/bg.png', profile_background_image_url_https='https://abs.twimg.com/images/themes/theme1/bg.png', profile_background_tile=False, profile_image_url='http://pbs.twimg.com/profile_images/1319688329172905985/b71_-v-h_normal.jpg', profile_image_url_https='https://pbs.twimg.com/profile_images/1319688329172905985/b71_-v-h_normal.jpg', profile_banner_url='https://pbs.twimg.com/profile_banners/3009632269/1601096304', profile_link_color='1DA1F2', profile_sidebar_border_color='C0DEED', profile_sidebar_fill_color='DDEEF6', profile_text_color='333333', profile_use_background_image=True, has_extended_profile=True, default_profile=True, default_profile_image=False, following=False, follow_request_sent=False, notifications=False, translator_type='none'), user=User(_api=<tweepy.api.API object at 0x000001EFAA8CD588>, _json={'id': 3009632269, 'id_str': '3009632269', 'name': 'Mugunth', 'screen_name': 'mugunth08', 'location': 'smriti mandhana heart', 'description': '#vijay admirer #mahesbabu fan \\nlove with #pawankalyan visionary thoughts', 'url': None, 'entities': {'description': {'urls': []}}, 'protected': False, 'followers_count': 965, 'friends_count': 585, 'listed_count': 1, 'created_at': 'Thu Feb 05 01:37:18 +0000 2015', 'favourites_count': 304729, 'utc_offset': None, 'time_zone': None, 'geo_enabled': False, 'verified': False, 'statuses_count': 9518, 'lang': None, 'contributors_enabled': False, 'is_translator': False, 'is_translation_enabled': False, 'profile_background_color': 'C0DEED', 'profile_background_image_url': 'http://abs.twimg.com/images/themes/theme1/bg.png', 'profile_background_image_url_https': 'https://abs.twimg.com/images/themes/theme1/bg.png', 'profile_background_tile': False, 'profile_image_url': 'http://pbs.twimg.com/profile_images/1319688329172905985/b71_-v-h_normal.jpg', 'profile_image_url_https': 'https://pbs.twimg.com/profile_images/1319688329172905985/b71_-v-h_normal.jpg', 'profile_banner_url': 'https://pbs.twimg.com/profile_banners/3009632269/1601096304', 'profile_link_color': '1DA1F2', 'profile_sidebar_border_color': 'C0DEED', 'profile_sidebar_fill_color': 'DDEEF6', 'profile_text_color': '333333', 'profile_use_background_image': True, 'has_extended_profile': True, 'default_profile': True, 'default_profile_image': False, 'following': False, 'follow_request_sent': False, 'notifications': False, 'translator_type': 'none'}, id=3009632269, id_str='3009632269', name='Mugunth', screen_name='mugunth08', location='smriti mandhana heart', description='#vijay admirer #mahesbabu fan \\nlove with #pawankalyan visionary thoughts', url=None, entities={'description': {'urls': []}}, protected=False, followers_count=965, friends_count=585, listed_count=1, created_at=datetime.datetime(2015, 2, 5, 1, 37, 18), favourites_count=304729, utc_offset=None, time_zone=None, geo_enabled=False, verified=False, statuses_count=9518, lang=None, contributors_enabled=False, is_translator=False, is_translation_enabled=False, profile_background_color='C0DEED', profile_background_image_url='http://abs.twimg.com/images/themes/theme1/bg.png', profile_background_image_url_https='https://abs.twimg.com/images/themes/theme1/bg.png', profile_background_tile=False, profile_image_url='http://pbs.twimg.com/profile_images/1319688329172905985/b71_-v-h_normal.jpg', profile_image_url_https='https://pbs.twimg.com/profile_images/1319688329172905985/b71_-v-h_normal.jpg', profile_banner_url='https://pbs.twimg.com/profile_banners/3009632269/1601096304', profile_link_color='1DA1F2', profile_sidebar_border_color='C0DEED', profile_sidebar_fill_color='DDEEF6', profile_text_color='333333', profile_use_background_image=True, has_extended_profile=True, default_profile=True, default_profile_image=False, following=False, follow_request_sent=False, notifications=False, translator_type='none'), geo=None, coordinates=None, place=None, contributors=None, is_quote_status=False, retweet_count=0, favorite_count=0, favorited=False, retweeted=False, lang='en') \n",
      "\n",
      ".....................................\n",
      "\n"
     ]
    }
   ],
   "source": [
    "Tweets = api.search( query , count=10 , lang='en' , exclude='retweets' , tweet_mode='extended' )\n",
    "# tweet_mode='extended'(full tweet)\n",
    "# tweet_mode='compat'(tweet reduced)\n",
    "#count is no of tweets\n",
    "#lang is language('English')\n",
    "#Exclude (retweets should be considered or not)\n",
    "for tweet in Tweets:\n",
    "    print(tweet,\"\\n\")\n",
    "    print(\".....................................\\n\")\n"
   ]
  },
  {
   "cell_type": "code",
   "execution_count": 52,
   "metadata": {},
   "outputs": [
    {
     "name": "stdout",
     "output_type": "stream",
     "text": [
      "User(_api=<tweepy.api.API object at 0x000001EFAA8CD588>, _json={'id': 1300810672582713344, 'id_str': '1300810672582713344', 'name': '😎 Heart_Throber_kittu_Dhfm 😍', 'screen_name': 'Kittuishere4MB', 'location': '', 'description': 'In movies i like all heros , but devotee of mahesh babu, #MI Fan , MSD lover & my motive is to spread love to everyone and make everyone happy..Respect Woman 🙏', 'url': None, 'entities': {'description': {'urls': []}}, 'protected': False, 'followers_count': 1035, 'friends_count': 1604, 'listed_count': 0, 'created_at': 'Tue Sep 01 15:00:19 +0000 2020', 'favourites_count': 445, 'utc_offset': None, 'time_zone': None, 'geo_enabled': False, 'verified': False, 'statuses_count': 3733, 'lang': None, 'contributors_enabled': False, 'is_translator': False, 'is_translation_enabled': False, 'profile_background_color': 'F5F8FA', 'profile_background_image_url': None, 'profile_background_image_url_https': None, 'profile_background_tile': False, 'profile_image_url': 'http://pbs.twimg.com/profile_images/1309030190014754816/grZPM_5V_normal.jpg', 'profile_image_url_https': 'https://pbs.twimg.com/profile_images/1309030190014754816/grZPM_5V_normal.jpg', 'profile_banner_url': 'https://pbs.twimg.com/profile_banners/1300810672582713344/1601319890', 'profile_link_color': '1DA1F2', 'profile_sidebar_border_color': 'C0DEED', 'profile_sidebar_fill_color': 'DDEEF6', 'profile_text_color': '333333', 'profile_use_background_image': True, 'has_extended_profile': False, 'default_profile': True, 'default_profile_image': False, 'following': False, 'follow_request_sent': False, 'notifications': False, 'translator_type': 'none'}, id=1300810672582713344, id_str='1300810672582713344', name='😎 Heart_Throber_kittu_Dhfm 😍', screen_name='Kittuishere4MB', location='', description='In movies i like all heros , but devotee of mahesh babu, #MI Fan , MSD lover & my motive is to spread love to everyone and make everyone happy..Respect Woman 🙏', url=None, entities={'description': {'urls': []}}, protected=False, followers_count=1035, friends_count=1604, listed_count=0, created_at=datetime.datetime(2020, 9, 1, 15, 0, 19), favourites_count=445, utc_offset=None, time_zone=None, geo_enabled=False, verified=False, statuses_count=3733, lang=None, contributors_enabled=False, is_translator=False, is_translation_enabled=False, profile_background_color='F5F8FA', profile_background_image_url=None, profile_background_image_url_https=None, profile_background_tile=False, profile_image_url='http://pbs.twimg.com/profile_images/1309030190014754816/grZPM_5V_normal.jpg', profile_image_url_https='https://pbs.twimg.com/profile_images/1309030190014754816/grZPM_5V_normal.jpg', profile_banner_url='https://pbs.twimg.com/profile_banners/1300810672582713344/1601319890', profile_link_color='1DA1F2', profile_sidebar_border_color='C0DEED', profile_sidebar_fill_color='DDEEF6', profile_text_color='333333', profile_use_background_image=True, has_extended_profile=False, default_profile=True, default_profile_image=False, following=False, follow_request_sent=False, notifications=False, translator_type='none')\n"
     ]
    }
   ],
   "source": [
    "    \n",
    "print(Tweets[0].user)"
   ]
  },
  {
   "cell_type": "raw",
   "metadata": {},
   "source": [
    "Get the tweets and some Attributes"
   ]
  },
  {
   "cell_type": "code",
   "execution_count": 54,
   "metadata": {},
   "outputs": [
    {
     "name": "stdout",
     "output_type": "stream",
     "text": [
      "Empty DataFrame\n",
      "Columns: [Tweets, User, User_statuses_count, user_followers, User_location, User_verified, fav_count, rt_count, tweet_date]\n",
      "Index: []\n"
     ]
    }
   ],
   "source": [
    "#Creating a DataFrame to organise data\n",
    "df = pd.DataFrame(columns = ['Tweets' , 'User' , 'User_statuses_count' , \n",
    "                            'user_followers' , 'User_location' , 'User_verified' ,\n",
    "                            'fav_count' , 'rt_count' , 'tweet_date'] )\n",
    "print(df)\n",
    "# print(df.shape)"
   ]
  },
  {
   "cell_type": "code",
   "execution_count": 56,
   "metadata": {},
   "outputs": [],
   "source": [
    "#function that takes query and filename to save from user and search it and convert data into readable format\n",
    "def stream(data, file_name):\n",
    "    # i is for no of tweets\n",
    "    i = 0\n",
    "    #Cursor searches in every page and find 100(count) tweets\n",
    "    for tweet in tweepy.Cursor(api.search, q=data, count=100, lang='en').items():\n",
    "        print(i, end='\\r')\n",
    "        df.loc[i, 'Tweets'] = tweet.text\n",
    "        df.loc[i, 'User'] = tweet.user.name\n",
    "        df.loc[i, 'User_statuses_count'] = tweet.user.statuses_count\n",
    "        df.loc[i, 'user_followers'] = tweet.user.followers_count\n",
    "        df.loc[i, 'User_location'] = tweet.user.location\n",
    "        df.loc[i, 'User_verified'] = tweet.user.verified\n",
    "        df.loc[i, 'fav_count'] = tweet.favorite_count\n",
    "        df.loc[i, 'rt_count'] = tweet.retweet_count\n",
    "        df.loc[i, 'tweet_date'] = tweet.created_at\n",
    "        df.to_excel('{}.xlsx'.format(file_name))\n",
    "        i = i+1\n",
    "        if i == 1000:\n",
    "            break\n",
    "        else:\n",
    "            pass"
   ]
  },
  {
   "cell_type": "code",
   "execution_count": 58,
   "metadata": {},
   "outputs": [
    {
     "name": "stdout",
     "output_type": "stream",
     "text": [
      "999\r"
     ]
    }
   ],
   "source": [
    "stream(data=[\"NTR\"] , file_name='my_tweets')"
   ]
  },
  {
   "cell_type": "code",
   "execution_count": 59,
   "metadata": {},
   "outputs": [
    {
     "data": {
      "text/html": [
       "<div>\n",
       "<style scoped>\n",
       "    .dataframe tbody tr th:only-of-type {\n",
       "        vertical-align: middle;\n",
       "    }\n",
       "\n",
       "    .dataframe tbody tr th {\n",
       "        vertical-align: top;\n",
       "    }\n",
       "\n",
       "    .dataframe thead th {\n",
       "        text-align: right;\n",
       "    }\n",
       "</style>\n",
       "<table border=\"1\" class=\"dataframe\">\n",
       "  <thead>\n",
       "    <tr style=\"text-align: right;\">\n",
       "      <th></th>\n",
       "      <th>Tweets</th>\n",
       "      <th>User</th>\n",
       "      <th>User_statuses_count</th>\n",
       "      <th>user_followers</th>\n",
       "      <th>User_location</th>\n",
       "      <th>User_verified</th>\n",
       "      <th>fav_count</th>\n",
       "      <th>rt_count</th>\n",
       "      <th>tweet_date</th>\n",
       "    </tr>\n",
       "  </thead>\n",
       "  <tbody>\n",
       "    <tr>\n",
       "      <th>0</th>\n",
       "      <td>@klrahul11 @Mass_Cult_NTR Congratulations 🎉🎊👏😀...</td>\n",
       "      <td>J.E.R.S.E.Y🤙🏻</td>\n",
       "      <td>13315</td>\n",
       "      <td>348</td>\n",
       "      <td>Bengaluru, India</td>\n",
       "      <td>False</td>\n",
       "      <td>0</td>\n",
       "      <td>0</td>\n",
       "      <td>2020-11-02 10:31:19</td>\n",
       "    </tr>\n",
       "    <tr>\n",
       "      <th>1</th>\n",
       "      <td>RT @Kittuishere4MB: Happy birthday angel ❤️❤️ ...</td>\n",
       "      <td>Vijay🚶alone Boy</td>\n",
       "      <td>354</td>\n",
       "      <td>56</td>\n",
       "      <td></td>\n",
       "      <td>False</td>\n",
       "      <td>0</td>\n",
       "      <td>2</td>\n",
       "      <td>2020-11-02 10:31:02</td>\n",
       "    </tr>\n",
       "    <tr>\n",
       "      <th>2</th>\n",
       "      <td>RT @Pavan_Tarakfan: Follow the below Active Cu...</td>\n",
       "      <td>K.Narasimha Tarak</td>\n",
       "      <td>6174</td>\n",
       "      <td>221</td>\n",
       "      <td>Adoni, India</td>\n",
       "      <td>False</td>\n",
       "      <td>0</td>\n",
       "      <td>12</td>\n",
       "      <td>2020-11-02 10:30:38</td>\n",
       "    </tr>\n",
       "    <tr>\n",
       "      <th>3</th>\n",
       "      <td>@divya_amanna Yes..ntr change the keyboard..</td>\n",
       "      <td>santhosh kumar ullal</td>\n",
       "      <td>1615</td>\n",
       "      <td>44</td>\n",
       "      <td>Ullal, India</td>\n",
       "      <td>False</td>\n",
       "      <td>0</td>\n",
       "      <td>0</td>\n",
       "      <td>2020-11-02 10:30:38</td>\n",
       "    </tr>\n",
       "    <tr>\n",
       "      <th>4</th>\n",
       "      <td>Never saw a problem with NTR, and I believe th...</td>\n",
       "      <td>ℝ𝕀𝕊ℍ𝕀 ⁷</td>\n",
       "      <td>24721</td>\n",
       "      <td>1435</td>\n",
       "      <td>๑</td>\n",
       "      <td>False</td>\n",
       "      <td>0</td>\n",
       "      <td>0</td>\n",
       "      <td>2020-11-02 10:30:30</td>\n",
       "    </tr>\n",
       "  </tbody>\n",
       "</table>\n",
       "</div>"
      ],
      "text/plain": [
       "                                              Tweets                  User  \\\n",
       "0  @klrahul11 @Mass_Cult_NTR Congratulations 🎉🎊👏😀...         J.E.R.S.E.Y🤙🏻   \n",
       "1  RT @Kittuishere4MB: Happy birthday angel ❤️❤️ ...       Vijay🚶alone Boy   \n",
       "2  RT @Pavan_Tarakfan: Follow the below Active Cu...     K.Narasimha Tarak   \n",
       "3       @divya_amanna Yes..ntr change the keyboard..  santhosh kumar ullal   \n",
       "4  Never saw a problem with NTR, and I believe th...               ℝ𝕀𝕊ℍ𝕀 ⁷   \n",
       "\n",
       "  User_statuses_count user_followers     User_location User_verified  \\\n",
       "0               13315            348  Bengaluru, India         False   \n",
       "1                 354             56                           False   \n",
       "2                6174            221      Adoni, India         False   \n",
       "3                1615             44      Ullal, India         False   \n",
       "4               24721           1435                 ๑         False   \n",
       "\n",
       "  fav_count rt_count           tweet_date  \n",
       "0         0        0  2020-11-02 10:31:19  \n",
       "1         0        2  2020-11-02 10:31:02  \n",
       "2         0       12  2020-11-02 10:30:38  \n",
       "3         0        0  2020-11-02 10:30:38  \n",
       "4         0        0  2020-11-02 10:30:30  "
      ]
     },
     "execution_count": 59,
     "metadata": {},
     "output_type": "execute_result"
    }
   ],
   "source": [
    "df.head()"
   ]
  },
  {
   "cell_type": "code",
   "execution_count": 15,
   "metadata": {},
   "outputs": [
    {
     "name": "stdout",
     "output_type": "stream",
     "text": [
      "Collecting textblob\n",
      "  Downloading textblob-0.15.3-py2.py3-none-any.whl (636 kB)\n",
      "Requirement already satisfied: nltk>=3.1 in c:\\users\\bodda\\anaconda3\\lib\\site-packages (from textblob) (3.4.5)\n",
      "Requirement already satisfied: six in c:\\users\\bodda\\anaconda3\\lib\\site-packages (from nltk>=3.1->textblob) (1.14.0)\n",
      "Installing collected packages: textblob\n",
      "Successfully installed textblob-0.15.3\n"
     ]
    },
    {
     "name": "stderr",
     "output_type": "stream",
     "text": [
      "WARNING: You are using pip version 20.1.1; however, version 20.2.4 is available.\n",
      "You should consider upgrading via the 'C:\\Users\\bodda\\anaconda3\\python.exe -m pip install --upgrade pip' command.\n"
     ]
    }
   ],
   "source": [
    "!pip install textblob"
   ]
  },
  {
   "cell_type": "raw",
   "metadata": {},
   "source": [
    "Sentiment(polarity, subjectivity)\n",
    "\n",
    "Polarity score: [-1 , +1]\n",
    "\n",
    "Subjectivity: [0.0 , 1.0] \n",
    "where 0.0 is very Objective and 1.0 is very Subjective."
   ]
  },
  {
   "cell_type": "code",
   "execution_count": 60,
   "metadata": {},
   "outputs": [],
   "source": [
    "#Textblob is general NLP library which can be used for sentiment classfication\n",
    "from textblob import TextBlob"
   ]
  },
  {
   "cell_type": "code",
   "execution_count": 61,
   "metadata": {},
   "outputs": [],
   "source": [
    "#Tweets contains unneccesary hashtags,html links,tags etcc. which is not useful for sentiment analysis\n",
    "#function removes all unneccesary items\n",
    "import re\n",
    "def clean_tweet(tweet):\n",
    "    return ' '.join(re.sub('(@[A-Za-z0-9]+)|([^0-9A-Za-z \\t])|(\\w+:\\/\\/\\S+)', ' ', tweet).split())"
   ]
  },
  {
   "cell_type": "code",
   "execution_count": 62,
   "metadata": {},
   "outputs": [],
   "source": [
    "#initialise Textblob and make sentiment analysis\n",
    "def analyze_sentiment(tweet):\n",
    "    analysis = TextBlob(tweet)\n",
    "    if analysis.sentiment.polarity > 0:\n",
    "        return 'Positive'\n",
    "    elif analysis.sentiment.polarity == 0:\n",
    "        return 'Neutral'\n",
    "    else:\n",
    "        return 'Negative'"
   ]
  },
  {
   "cell_type": "code",
   "execution_count": 63,
   "metadata": {},
   "outputs": [],
   "source": [
    "df['clean_tweet'] = df['Tweets'].apply(lambda x : clean_tweet(x))"
   ]
  },
  {
   "cell_type": "code",
   "execution_count": 64,
   "metadata": {},
   "outputs": [
    {
     "data": {
      "text/html": [
       "<div>\n",
       "<style scoped>\n",
       "    .dataframe tbody tr th:only-of-type {\n",
       "        vertical-align: middle;\n",
       "    }\n",
       "\n",
       "    .dataframe tbody tr th {\n",
       "        vertical-align: top;\n",
       "    }\n",
       "\n",
       "    .dataframe thead th {\n",
       "        text-align: right;\n",
       "    }\n",
       "</style>\n",
       "<table border=\"1\" class=\"dataframe\">\n",
       "  <thead>\n",
       "    <tr style=\"text-align: right;\">\n",
       "      <th></th>\n",
       "      <th>Tweets</th>\n",
       "      <th>User</th>\n",
       "      <th>User_statuses_count</th>\n",
       "      <th>user_followers</th>\n",
       "      <th>User_location</th>\n",
       "      <th>User_verified</th>\n",
       "      <th>fav_count</th>\n",
       "      <th>rt_count</th>\n",
       "      <th>tweet_date</th>\n",
       "      <th>clean_tweet</th>\n",
       "    </tr>\n",
       "  </thead>\n",
       "  <tbody>\n",
       "    <tr>\n",
       "      <th>0</th>\n",
       "      <td>@klrahul11 @Mass_Cult_NTR Congratulations 🎉🎊👏😀...</td>\n",
       "      <td>J.E.R.S.E.Y🤙🏻</td>\n",
       "      <td>13315</td>\n",
       "      <td>348</td>\n",
       "      <td>Bengaluru, India</td>\n",
       "      <td>False</td>\n",
       "      <td>0</td>\n",
       "      <td>0</td>\n",
       "      <td>2020-11-02 10:31:19</td>\n",
       "      <td>Cult NTR Congratulations Karnataka is proud of...</td>\n",
       "    </tr>\n",
       "    <tr>\n",
       "      <th>1</th>\n",
       "      <td>RT @Kittuishere4MB: Happy birthday angel ❤️❤️ ...</td>\n",
       "      <td>Vijay🚶alone Boy</td>\n",
       "      <td>354</td>\n",
       "      <td>56</td>\n",
       "      <td></td>\n",
       "      <td>False</td>\n",
       "      <td>0</td>\n",
       "      <td>2</td>\n",
       "      <td>2020-11-02 10:31:02</td>\n",
       "      <td>RT Happy birthday angel pawan ntr rc</td>\n",
       "    </tr>\n",
       "    <tr>\n",
       "      <th>2</th>\n",
       "      <td>RT @Pavan_Tarakfan: Follow the below Active Cu...</td>\n",
       "      <td>K.Narasimha Tarak</td>\n",
       "      <td>6174</td>\n",
       "      <td>221</td>\n",
       "      <td>Adoni, India</td>\n",
       "      <td>False</td>\n",
       "      <td>0</td>\n",
       "      <td>12</td>\n",
       "      <td>2020-11-02 10:30:38</td>\n",
       "      <td>RT Tarakfan Follow the below Active Cults Tara...</td>\n",
       "    </tr>\n",
       "    <tr>\n",
       "      <th>3</th>\n",
       "      <td>@divya_amanna Yes..ntr change the keyboard..</td>\n",
       "      <td>santhosh kumar ullal</td>\n",
       "      <td>1615</td>\n",
       "      <td>44</td>\n",
       "      <td>Ullal, India</td>\n",
       "      <td>False</td>\n",
       "      <td>0</td>\n",
       "      <td>0</td>\n",
       "      <td>2020-11-02 10:30:38</td>\n",
       "      <td>amanna Yes ntr change the keyboard</td>\n",
       "    </tr>\n",
       "    <tr>\n",
       "      <th>4</th>\n",
       "      <td>Never saw a problem with NTR, and I believe th...</td>\n",
       "      <td>ℝ𝕀𝕊ℍ𝕀 ⁷</td>\n",
       "      <td>24721</td>\n",
       "      <td>1435</td>\n",
       "      <td>๑</td>\n",
       "      <td>False</td>\n",
       "      <td>0</td>\n",
       "      <td>0</td>\n",
       "      <td>2020-11-02 10:30:30</td>\n",
       "      <td>Never saw a problem with NTR and I believe the...</td>\n",
       "    </tr>\n",
       "  </tbody>\n",
       "</table>\n",
       "</div>"
      ],
      "text/plain": [
       "                                              Tweets                  User  \\\n",
       "0  @klrahul11 @Mass_Cult_NTR Congratulations 🎉🎊👏😀...         J.E.R.S.E.Y🤙🏻   \n",
       "1  RT @Kittuishere4MB: Happy birthday angel ❤️❤️ ...       Vijay🚶alone Boy   \n",
       "2  RT @Pavan_Tarakfan: Follow the below Active Cu...     K.Narasimha Tarak   \n",
       "3       @divya_amanna Yes..ntr change the keyboard..  santhosh kumar ullal   \n",
       "4  Never saw a problem with NTR, and I believe th...               ℝ𝕀𝕊ℍ𝕀 ⁷   \n",
       "\n",
       "  User_statuses_count user_followers     User_location User_verified  \\\n",
       "0               13315            348  Bengaluru, India         False   \n",
       "1                 354             56                           False   \n",
       "2                6174            221      Adoni, India         False   \n",
       "3                1615             44      Ullal, India         False   \n",
       "4               24721           1435                 ๑         False   \n",
       "\n",
       "  fav_count rt_count           tweet_date  \\\n",
       "0         0        0  2020-11-02 10:31:19   \n",
       "1         0        2  2020-11-02 10:31:02   \n",
       "2         0       12  2020-11-02 10:30:38   \n",
       "3         0        0  2020-11-02 10:30:38   \n",
       "4         0        0  2020-11-02 10:30:30   \n",
       "\n",
       "                                         clean_tweet  \n",
       "0  Cult NTR Congratulations Karnataka is proud of...  \n",
       "1               RT Happy birthday angel pawan ntr rc  \n",
       "2  RT Tarakfan Follow the below Active Cults Tara...  \n",
       "3                 amanna Yes ntr change the keyboard  \n",
       "4  Never saw a problem with NTR and I believe the...  "
      ]
     },
     "execution_count": 64,
     "metadata": {},
     "output_type": "execute_result"
    }
   ],
   "source": [
    "df.head()"
   ]
  },
  {
   "cell_type": "code",
   "execution_count": 65,
   "metadata": {},
   "outputs": [
    {
     "data": {
      "text/html": [
       "<div>\n",
       "<style scoped>\n",
       "    .dataframe tbody tr th:only-of-type {\n",
       "        vertical-align: middle;\n",
       "    }\n",
       "\n",
       "    .dataframe tbody tr th {\n",
       "        vertical-align: top;\n",
       "    }\n",
       "\n",
       "    .dataframe thead th {\n",
       "        text-align: right;\n",
       "    }\n",
       "</style>\n",
       "<table border=\"1\" class=\"dataframe\">\n",
       "  <thead>\n",
       "    <tr style=\"text-align: right;\">\n",
       "      <th></th>\n",
       "      <th>Tweets</th>\n",
       "      <th>User</th>\n",
       "      <th>User_statuses_count</th>\n",
       "      <th>user_followers</th>\n",
       "      <th>User_location</th>\n",
       "      <th>User_verified</th>\n",
       "      <th>fav_count</th>\n",
       "      <th>rt_count</th>\n",
       "      <th>tweet_date</th>\n",
       "      <th>clean_tweet</th>\n",
       "      <th>Sentiment</th>\n",
       "    </tr>\n",
       "  </thead>\n",
       "  <tbody>\n",
       "    <tr>\n",
       "      <th>0</th>\n",
       "      <td>@klrahul11 @Mass_Cult_NTR Congratulations 🎉🎊👏😀...</td>\n",
       "      <td>J.E.R.S.E.Y🤙🏻</td>\n",
       "      <td>13315</td>\n",
       "      <td>348</td>\n",
       "      <td>Bengaluru, India</td>\n",
       "      <td>False</td>\n",
       "      <td>0</td>\n",
       "      <td>0</td>\n",
       "      <td>2020-11-02 10:31:19</td>\n",
       "      <td>Cult NTR Congratulations Karnataka is proud of...</td>\n",
       "      <td>Positive</td>\n",
       "    </tr>\n",
       "    <tr>\n",
       "      <th>1</th>\n",
       "      <td>RT @Kittuishere4MB: Happy birthday angel ❤️❤️ ...</td>\n",
       "      <td>Vijay🚶alone Boy</td>\n",
       "      <td>354</td>\n",
       "      <td>56</td>\n",
       "      <td></td>\n",
       "      <td>False</td>\n",
       "      <td>0</td>\n",
       "      <td>2</td>\n",
       "      <td>2020-11-02 10:31:02</td>\n",
       "      <td>RT Happy birthday angel pawan ntr rc</td>\n",
       "      <td>Positive</td>\n",
       "    </tr>\n",
       "    <tr>\n",
       "      <th>2</th>\n",
       "      <td>RT @Pavan_Tarakfan: Follow the below Active Cu...</td>\n",
       "      <td>K.Narasimha Tarak</td>\n",
       "      <td>6174</td>\n",
       "      <td>221</td>\n",
       "      <td>Adoni, India</td>\n",
       "      <td>False</td>\n",
       "      <td>0</td>\n",
       "      <td>12</td>\n",
       "      <td>2020-11-02 10:30:38</td>\n",
       "      <td>RT Tarakfan Follow the below Active Cults Tara...</td>\n",
       "      <td>Negative</td>\n",
       "    </tr>\n",
       "    <tr>\n",
       "      <th>3</th>\n",
       "      <td>@divya_amanna Yes..ntr change the keyboard..</td>\n",
       "      <td>santhosh kumar ullal</td>\n",
       "      <td>1615</td>\n",
       "      <td>44</td>\n",
       "      <td>Ullal, India</td>\n",
       "      <td>False</td>\n",
       "      <td>0</td>\n",
       "      <td>0</td>\n",
       "      <td>2020-11-02 10:30:38</td>\n",
       "      <td>amanna Yes ntr change the keyboard</td>\n",
       "      <td>Neutral</td>\n",
       "    </tr>\n",
       "    <tr>\n",
       "      <th>4</th>\n",
       "      <td>Never saw a problem with NTR, and I believe th...</td>\n",
       "      <td>ℝ𝕀𝕊ℍ𝕀 ⁷</td>\n",
       "      <td>24721</td>\n",
       "      <td>1435</td>\n",
       "      <td>๑</td>\n",
       "      <td>False</td>\n",
       "      <td>0</td>\n",
       "      <td>0</td>\n",
       "      <td>2020-11-02 10:30:30</td>\n",
       "      <td>Never saw a problem with NTR and I believe the...</td>\n",
       "      <td>Negative</td>\n",
       "    </tr>\n",
       "  </tbody>\n",
       "</table>\n",
       "</div>"
      ],
      "text/plain": [
       "                                              Tweets                  User  \\\n",
       "0  @klrahul11 @Mass_Cult_NTR Congratulations 🎉🎊👏😀...         J.E.R.S.E.Y🤙🏻   \n",
       "1  RT @Kittuishere4MB: Happy birthday angel ❤️❤️ ...       Vijay🚶alone Boy   \n",
       "2  RT @Pavan_Tarakfan: Follow the below Active Cu...     K.Narasimha Tarak   \n",
       "3       @divya_amanna Yes..ntr change the keyboard..  santhosh kumar ullal   \n",
       "4  Never saw a problem with NTR, and I believe th...               ℝ𝕀𝕊ℍ𝕀 ⁷   \n",
       "\n",
       "  User_statuses_count user_followers     User_location User_verified  \\\n",
       "0               13315            348  Bengaluru, India         False   \n",
       "1                 354             56                           False   \n",
       "2                6174            221      Adoni, India         False   \n",
       "3                1615             44      Ullal, India         False   \n",
       "4               24721           1435                 ๑         False   \n",
       "\n",
       "  fav_count rt_count           tweet_date  \\\n",
       "0         0        0  2020-11-02 10:31:19   \n",
       "1         0        2  2020-11-02 10:31:02   \n",
       "2         0       12  2020-11-02 10:30:38   \n",
       "3         0        0  2020-11-02 10:30:38   \n",
       "4         0        0  2020-11-02 10:30:30   \n",
       "\n",
       "                                         clean_tweet Sentiment  \n",
       "0  Cult NTR Congratulations Karnataka is proud of...  Positive  \n",
       "1               RT Happy birthday angel pawan ntr rc  Positive  \n",
       "2  RT Tarakfan Follow the below Active Cults Tara...  Negative  \n",
       "3                 amanna Yes ntr change the keyboard   Neutral  \n",
       "4  Never saw a problem with NTR and I believe the...  Negative  "
      ]
     },
     "execution_count": 65,
     "metadata": {},
     "output_type": "execute_result"
    }
   ],
   "source": [
    "df['Sentiment'] = df['clean_tweet'].apply(lambda x : analyze_sentiment(x) )\n",
    "df.head()"
   ]
  },
  {
   "cell_type": "code",
   "execution_count": 66,
   "metadata": {},
   "outputs": [
    {
     "name": "stdout",
     "output_type": "stream",
     "text": [
      "Original tweet:\n",
      " RT @Kittuishere4MB: Happy birthday angel ❤️❤️ @vijayprasadu @kaleyan_pawan @devudu_ntr @satyach78459401 @alluvirat18 @seshu33385 @sekhar_rc…\n",
      "\n",
      "Clean tweet:\n",
      " RT Happy birthday angel pawan ntr rc\n",
      "\n",
      "Sentiment of the tweet:\n",
      " Positive\n"
     ]
    }
   ],
   "source": [
    "n = 1\n",
    "print(\"Original tweet:\\n\",df['Tweets'][n])\n",
    "print()\n",
    "print(\"Clean tweet:\\n\",df['clean_tweet'][n])\n",
    "print()\n",
    "print(\"Sentiment of the tweet:\\n\",df['Sentiment'][n])"
   ]
  },
  {
   "cell_type": "code",
   "execution_count": 67,
   "metadata": {},
   "outputs": [
    {
     "name": "stdout",
     "output_type": "stream",
     "text": [
      "Original tweet:\n",
      " RT @UttarandhraNow: #NTR - #Modi - #PawanKalyan will be #BJP slogan for 2024, says @Sunil_Deodhar in #Vizag. #UANow #APPolitics https://t.c…\n",
      "\n",
      "Clean tweet:\n",
      " RT NTR Modi PawanKalyan will be BJP slogan for 2024 says Deodhar in Vizag UANow APPolitics\n",
      "\n",
      "Sentiment of the tweet:\n",
      " Neutral\n"
     ]
    }
   ],
   "source": [
    "n = 20\n",
    "print(\"Original tweet:\\n\",df['Tweets'][n])\n",
    "print()\n",
    "print(\"Clean tweet:\\n\",df['clean_tweet'][n])\n",
    "print()\n",
    "print(\"Sentiment of the tweet:\\n\",df['Sentiment'][n])"
   ]
  },
  {
   "cell_type": "code",
   "execution_count": 68,
   "metadata": {},
   "outputs": [
    {
     "name": "stdout",
     "output_type": "stream",
     "text": [
      "Original tweet:\n",
      " @Sriniva77797 @Bhargav_Ram9999 @tarak9999 @Sriniva09502154 Follow back\n",
      "\n",
      "Clean tweet:\n",
      " Ram9999 Follow back\n",
      "\n",
      "Sentiment of the tweet:\n",
      " Neutral\n"
     ]
    }
   ],
   "source": [
    "n = 203\n",
    "print(\"Original tweet:\\n\",df['Tweets'][n])\n",
    "print()\n",
    "print(\"Clean tweet:\\n\",df['clean_tweet'][n])\n",
    "print()\n",
    "print(\"Sentiment of the tweet:\\n\",df['Sentiment'][n])"
   ]
  },
  {
   "cell_type": "code",
   "execution_count": 69,
   "metadata": {},
   "outputs": [
    {
     "data": {
      "text/plain": [
       "460"
      ]
     },
     "execution_count": 69,
     "metadata": {},
     "output_type": "execute_result"
    }
   ],
   "source": [
    "df[df.Sentiment == 'Positive'].shape[0]"
   ]
  },
  {
   "cell_type": "code",
   "execution_count": 70,
   "metadata": {},
   "outputs": [
    {
     "data": {
      "text/plain": [
       "471"
      ]
     },
     "execution_count": 70,
     "metadata": {},
     "output_type": "execute_result"
    }
   ],
   "source": [
    "df[df.Sentiment == 'Neutral'].shape[0]"
   ]
  },
  {
   "cell_type": "code",
   "execution_count": 71,
   "metadata": {},
   "outputs": [
    {
     "data": {
      "text/plain": [
       "69"
      ]
     },
     "execution_count": 71,
     "metadata": {},
     "output_type": "execute_result"
    }
   ],
   "source": [
    "df[df.Sentiment == 'Negative'].shape[0]"
   ]
  },
  {
   "cell_type": "markdown",
   "metadata": {},
   "source": []
  },
  {
   "cell_type": "code",
   "execution_count": 72,
   "metadata": {},
   "outputs": [
    {
     "data": {
      "text/plain": [
       "(1000, 11)"
      ]
     },
     "execution_count": 72,
     "metadata": {},
     "output_type": "execute_result"
    }
   ],
   "source": [
    "df.shape"
   ]
  },
  {
   "cell_type": "code",
   "execution_count": null,
   "metadata": {},
   "outputs": [],
   "source": []
  }
 ],
 "metadata": {
  "kernelspec": {
   "display_name": "Python 3",
   "language": "python",
   "name": "python3"
  },
  "language_info": {
   "codemirror_mode": {
    "name": "ipython",
    "version": 3
   },
   "file_extension": ".py",
   "mimetype": "text/x-python",
   "name": "python",
   "nbconvert_exporter": "python",
   "pygments_lexer": "ipython3",
   "version": "3.7.6"
  }
 },
 "nbformat": 4,
 "nbformat_minor": 4
}
