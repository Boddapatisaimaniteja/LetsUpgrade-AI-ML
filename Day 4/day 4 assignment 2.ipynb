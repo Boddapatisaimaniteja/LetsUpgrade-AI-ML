{
 "cells": [
  {
   "cell_type": "markdown",
   "metadata": {},
   "source": [
    "# DAY 4 ASSIGNMENT 2\n"
   ]
  },
  {
   "cell_type": "markdown",
   "metadata": {},
   "source": [
    "# 1:Research on whether addition, subtraction, multiplication, division, floor division and modulo operations be performed on complex numbers. Based on your study, implement a Python program to demonstrate these operations.\n"
   ]
  },
  {
   "cell_type": "code",
   "execution_count": 4,
   "metadata": {},
   "outputs": [
    {
     "name": "stdout",
     "output_type": "stream",
     "text": [
      "Enter real part of first complex number1\n",
      "Enter img part of first complex number2\n",
      "Enter real part of second complex number3\n",
      "Enter img part of second complex number4\n",
      "first complex number :  (1+2j)\n",
      "second complex number :  (3+4j)\n",
      "Addition of two complex numbers is :  (4+6j)\n",
      "Subtraction of two complex numbers is :  (-2-2j)\n",
      "Multiplication of two complex numbers is :  (-5+10j)\n",
      "Division of two complex numbers is :  (0.44+0.08j)\n"
     ]
    }
   ],
   "source": [
    "r=int(input(\"Enter real part of first complex number\"))\n",
    "i=int(input(\"Enter img part of first complex number\"))\n",
    "R=int(input(\"Enter real part of second complex number\"))\n",
    "I=int(input(\"Enter img part of second complex number\"))\n",
    "a=complex(r,i)\n",
    "b=complex(R,I)\n",
    "print(\"first complex number : \",a)\n",
    "print(\"second complex number : \",b)\n",
    "#lets assume all operations are possible based on that we will conclude\n",
    "#ADDITION  OPERATION IS POSSIBLE\n",
    "print(\"Addition of two complex numbers is : \",a+b)\n",
    "#subtraction operation is possible\n",
    "print(\"Subtraction of two complex numbers is : \",a-b)\n",
    "#multiplication opeartion is possible\n",
    "print(\"Multiplication of two complex numbers is : \",a*b)\n",
    "#Division operation is possible\n",
    "print(\"Division of two complex numbers is : \",a/b)\n",
    "#floor Division operation is not possible  when we try to perform it will throw error \"TYPE ERROR\"\n",
    "#print(\"floor division of two complex numbers is : \",a//b)\n",
    "#modulo division is not possible when we try to perform it will throw error \"TYPE ERROR\"\n",
    "#print(\"Modulo Division of two complex numbers is : \",a%b)"
   ]
  },
  {
   "cell_type": "markdown",
   "metadata": {},
   "source": [
    "# 2:Research on range() functions and its parameters. Create a markdown cell and write in your own words (no copy-paste from google please) what you understand about it. Implement a small program of your choice on the same.\n"
   ]
  },
  {
   "cell_type": "markdown",
   "metadata": {},
   "source": [
    "# 2.1 :range() function is used to select numbers between the start and end index based on incremental value\n",
    "\n",
    "# 2.2: syntax is:\n",
    "#                     range(start,stop,incremental value)\n",
    "\n",
    "# 2.3: example range(5,10,1) will give values 5,6,7,8,9\n",
    "#         example range(10,1) will give values 0,1,2,3,4,5,6,7,8,9\n",
    "#         example range(5,10) will give values 5,6,7,8,9"
   ]
  },
  {
   "cell_type": "code",
   "execution_count": 9,
   "metadata": {},
   "outputs": [
    {
     "name": "stdout",
     "output_type": "stream",
     "text": [
      "0\n",
      "1\n",
      "2\n",
      "3\n",
      "4\n",
      "5\n",
      "6\n",
      "7\n",
      "8\n",
      "9\n",
      "----------\n",
      "5\n",
      "6\n",
      "7\n",
      "8\n",
      "9\n",
      "---------------\n",
      "8\n",
      "12\n",
      "16\n"
     ]
    }
   ],
   "source": [
    "for i in range(10): #by default start is taken as 0 and increment\\t value as 1\n",
    "    print(i)\n",
    "print(\"----------\")\n",
    "for i in range(5,10):#by default increment value as 1\n",
    "    print(i)\n",
    "print(\"---------------\")\n",
    "for i in range(8,18,4):\n",
    "    print(i)"
   ]
  },
  {
   "cell_type": "markdown",
   "metadata": {},
   "source": [
    "# 3:Consider two numbers. Perform their subtraction and if the result of subtraction is greater than 25, print their multiplication result else print their division result.\n"
   ]
  },
  {
   "cell_type": "code",
   "execution_count": 10,
   "metadata": {},
   "outputs": [
    {
     "name": "stdout",
     "output_type": "stream",
     "text": [
      "enter 1st number99\n",
      "enter 2nd number33\n",
      "multiplication is :  3267\n"
     ]
    }
   ],
   "source": [
    "a=int(input(\"enter 1st number\"))\n",
    "b=int(input(\"enter 2nd number\"))\n",
    "c=a-b\n",
    "if c>25:\n",
    "    print(\"multiplication is : \",a*b)\n",
    "else:\n",
    "    print(\"Division is : \",a/b)"
   ]
  },
  {
   "cell_type": "markdown",
   "metadata": {},
   "source": [
    "# 4:Consider a list of 10 elements of integer values. If the number in the list is divisible by 2, print the result as \"square of that number minus 2\""
   ]
  },
  {
   "cell_type": "code",
   "execution_count": 11,
   "metadata": {},
   "outputs": [
    {
     "name": "stdout",
     "output_type": "stream",
     "text": [
      "[0, 1, 2, 3, 4, 5, 6, 7, 8, 9]\n",
      "0 is divisible by 2 and square of number minus 2 is  -2\n",
      "2 is divisible by 2 and square of number minus 2 is  2\n",
      "4 is divisible by 2 and square of number minus 2 is  14\n",
      "6 is divisible by 2 and square of number minus 2 is  34\n",
      "8 is divisible by 2 and square of number minus 2 is  62\n"
     ]
    }
   ],
   "source": [
    "l=[]\n",
    "for i in range(10):\n",
    "    l.append(i)\n",
    "print(l)\n",
    "for i in l:\n",
    "    if i%2==0:\n",
    "        print(i, \"is divisible by 2 and square of number minus 2 is \",(i**2)-2)"
   ]
  },
  {
   "cell_type": "markdown",
   "metadata": {},
   "source": [
    "# 5:Consider a list of 10 elements. Print all the elements in the list which are greater than 7 when that number is divided 2."
   ]
  },
  {
   "cell_type": "code",
   "execution_count": 12,
   "metadata": {},
   "outputs": [
    {
     "name": "stdout",
     "output_type": "stream",
     "text": [
      "[0, 1, 2, 3, 4, 5, 6, 7, 8, 9]\n",
      "The number divided by 2 and greater that 7 is  8\n"
     ]
    }
   ],
   "source": [
    "l=[]\n",
    "for i in range(10):\n",
    "    l.append(i)\n",
    "print(l)\n",
    "for i in l:\n",
    "    if i%2==0 and i>7:\n",
    "        print(\"The number divided by 2 and greater that 7 is \",i)"
   ]
  },
  {
   "cell_type": "code",
   "execution_count": null,
   "metadata": {},
   "outputs": [],
   "source": []
  }
 ],
 "metadata": {
  "kernelspec": {
   "display_name": "Python 3",
   "language": "python",
   "name": "python3"
  },
  "language_info": {
   "codemirror_mode": {
    "name": "ipython",
    "version": 3
   },
   "file_extension": ".py",
   "mimetype": "text/x-python",
   "name": "python",
   "nbconvert_exporter": "python",
   "pygments_lexer": "ipython3",
   "version": "3.7.6"
  }
 },
 "nbformat": 4,
 "nbformat_minor": 4
}
