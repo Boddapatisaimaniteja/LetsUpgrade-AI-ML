{
 "cells": [
  {
   "cell_type": "markdown",
   "metadata": {},
   "source": [
    "# ASSIGNMENT DAY 3\n"
   ]
  },
  {
   "cell_type": "markdown",
   "metadata": {},
   "source": [
    "# 1: PROGRAM TO SUBTRACT TWO COMPLEX NUMBERS"
   ]
  },
  {
   "cell_type": "code",
   "execution_count": 8,
   "metadata": {},
   "outputs": [
    {
     "name": "stdout",
     "output_type": "stream",
     "text": [
      "Enter real part of 1st complex number2\n",
      "Enter img part of 1st complex number3\n",
      "Enter real part of 2nd complex number4\n",
      "Enter img part of 2nd complex number5\n",
      "(-2-2j)\n"
     ]
    }
   ],
   "source": [
    "r=int(input(\"Enter real part of 1st complex number\"))\n",
    "i=int(input(\"Enter img part of 1st complex number\"))\n",
    "R=int(input(\"Enter real part of 2nd complex number\"))\n",
    "I=int(input(\"Enter img part of 2nd complex number\"))\n",
    "#THERE IS A FUNCTION IN PYTHON CALLED COMPLEX WHICH TAKES TWO NUMBERS(REAL AND IMAGINARY PARTS) AND MAKE IT IN FORM OF A+IB\n",
    "a=complex(r,i)\n",
    "b=complex(R,I)\n",
    "print(\"1st Complex number: \",a)\n",
    "print(\"2nd Complex number: \",b)\n",
    "print(\"Difference of complex numbers is:\",a-b)"
   ]
  },
  {
   "cell_type": "markdown",
   "metadata": {},
   "source": [
    "# 2:PROGRAM TO PRINT 4 ROOT OF A NUMBER"
   ]
  },
  {
   "cell_type": "code",
   "execution_count": 7,
   "metadata": {},
   "outputs": [
    {
     "name": "stdout",
     "output_type": "stream",
     "text": [
      "16\n",
      "2\n"
     ]
    }
   ],
   "source": [
    "a=int(input(\"Enter a number to find the 4th root\"))\n",
    "# 4TH ROOT IS NOTHING BUT A TO THE POWER OF (1/4) WHERE A  IS NUMBER\n",
    "print(int(a**(1/4)))"
   ]
  },
  {
   "cell_type": "markdown",
   "metadata": {},
   "source": [
    "# 3:PROGRAM TO SWAP 2 NUMBERS USING TEMP VARIABLE"
   ]
  },
  {
   "cell_type": "code",
   "execution_count": 9,
   "metadata": {},
   "outputs": [
    {
     "name": "stdout",
     "output_type": "stream",
     "text": [
      "enter 1st number2\n",
      "enter 2nd number3\n",
      "before swapping\n",
      "a:  2     b, 3\n",
      "After Swapping\n",
      "a:  3     b, 2\n"
     ]
    }
   ],
   "source": [
    "a=int(input(\"enter 1st number\"))\n",
    "b=int(input(\"enter 2nd number\"))\n",
    "print(\"before swapping\")\n",
    "print(\"a: \",a,\"    b,\",b)\n",
    "temp=a\n",
    "a=b\n",
    "b=temp\n",
    "print(\"After Swapping\")\n",
    "print(\"a: \",a,\"    b,\",b)"
   ]
  },
  {
   "cell_type": "markdown",
   "metadata": {},
   "source": [
    "# 4:PROGRAM TO SWAP 2 NUMBERS WITHOUT USING TEMP VARIABLE"
   ]
  },
  {
   "cell_type": "code",
   "execution_count": 10,
   "metadata": {},
   "outputs": [
    {
     "name": "stdout",
     "output_type": "stream",
     "text": [
      "enter 1st number2\n",
      "enter 2nd number3\n",
      "before swapping\n",
      "a:  2     b, 3\n",
      "After Swapping\n",
      "a:  3     b, 2\n"
     ]
    }
   ],
   "source": [
    "a=int(input(\"enter 1st number\"))\n",
    "b=int(input(\"enter 2nd number\"))\n",
    "print(\"before swapping\")\n",
    "print(\"a: \",a,\"    b,\",b)\n",
    "a,b=b,a\n",
    "print(\"After Swapping\")\n",
    "print(\"a: \",a,\"    b,\",b)"
   ]
  },
  {
   "cell_type": "code",
   "execution_count": 11,
   "metadata": {},
   "outputs": [
    {
     "name": "stdout",
     "output_type": "stream",
     "text": [
      "enter 1st number2\n",
      "enter 2nd number3\n",
      "before swapping\n",
      "a:  2     b, 3\n",
      "After Swapping\n",
      "a:  3     b, 2\n"
     ]
    }
   ],
   "source": [
    "a=int(input(\"enter 1st number\"))\n",
    "b=int(input(\"enter 2nd number\"))\n",
    "print(\"before swapping\")\n",
    "print(\"a: \",a,\"    b,\",b)\n",
    "a=a+b\n",
    "b=a-b\n",
    "a=a-b\n",
    "print(\"After Swapping\")\n",
    "print(\"a: \",a,\"    b,\",b)"
   ]
  },
  {
   "cell_type": "markdown",
   "metadata": {},
   "source": [
    "# 5:PROGRAM TO CONVERT FAHRENHEIT TO CELSIUS AND KELVIN"
   ]
  },
  {
   "cell_type": "code",
   "execution_count": 13,
   "metadata": {},
   "outputs": [
    {
     "name": "stdout",
     "output_type": "stream",
     "text": [
      "enter temp in FAHRENHEIT100\n",
      "Temp in celsius is : 37.77777777777778\n",
      "Temp in kelvin is : 311.27777777777777\n"
     ]
    }
   ],
   "source": [
    "a=float(input(\"enter temp in FAHRENHEIT \"))\n",
    "celsius=(5.0/9.0)*(a-32.0)\n",
    "kelvin=273.5+((a-32.0)*(5.0/9.0))\n",
    "print(\"Temp in celsius is :\",celsius)\n",
    "print(\"Temp in kelvin is :\",kelvin)"
   ]
  },
  {
   "cell_type": "markdown",
   "metadata": {},
   "source": [
    "# 6:PROGRAM TO DEMONSTRATE ALL DATATYPES"
   ]
  },
  {
   "cell_type": "code",
   "execution_count": 16,
   "metadata": {},
   "outputs": [
    {
     "name": "stdout",
     "output_type": "stream",
     "text": [
      "<class 'int'>\n",
      "<class 'float'>\n",
      "<class 'str'>\n",
      "<class 'complex'>\n",
      "This are basic datatypes and there are lot more\n"
     ]
    }
   ],
   "source": [
    "#INTEGER\n",
    "a=5\n",
    "print(type(a))\n",
    "#FLOAT\n",
    "a=5.0\n",
    "print(type(a))\n",
    "#STRING\n",
    "a=\"lets go\"\n",
    "print(type(a))\n",
    "#COMPLEX\n",
    "a=5+6j\n",
    "print(type(a))\n",
    "print(\"This are basic datatypes and there are lot more\")"
   ]
  },
  {
   "cell_type": "markdown",
   "metadata": {},
   "source": [
    "# 7:STEPS TO CREATE GITHUB PROFILE AND  AND UPLOAD GITHUB ASSIGNMENT FILES"
   ]
  },
  {
   "cell_type": "markdown",
   "metadata": {},
   "source": [
    "# 7.1:GO TO GITHUB AND CLICK ON SIGN UP(IF YOU ARE NEW) OTHER WISE SIGN IN INTO GITHUB ACCOUNT\n",
    "\n",
    "# 7.2:CLICK ON CREATE REPOSITORY AND NAME THE REPOSITORY AS \"LetsUpgrade AI_ML\"  AND WRITE \"Assignments\" IN DESCRIPTION\n",
    "\n",
    "# 7.3: MAKE SURE IT IS IN PUBLIC AND CLICK ON CREATE REPOSITORY\n",
    "\n",
    "# 7.4: MAKE SURE THAT YOU HAVE CREATED SEPERATE FOLDER FOR DIFFERENT DAYS IN YOUR LOCAL MACHINE\n",
    "\n",
    "# 7.5:CLICK ON UPLOAD FILES AFTER CREATING REPOSITORY AND DRAG THE FOLDER OF THE DAY RESPECTIVELY\n",
    "\n",
    "# 7.6:AFTER THAT COPY GITHUB LINK AND PASTE IN GOOGLE FORMS AND MAKE SURE YOU RECEIVED MAIL FROM LETSUPGRADE\n"
   ]
  },
  {
   "cell_type": "code",
   "execution_count": null,
   "metadata": {},
   "outputs": [],
   "source": []
  }
 ],
 "metadata": {
  "kernelspec": {
   "display_name": "Python 3",
   "language": "python",
   "name": "python3"
  },
  "language_info": {
   "codemirror_mode": {
    "name": "ipython",
    "version": 3
   },
   "file_extension": ".py",
   "mimetype": "text/x-python",
   "name": "python",
   "nbconvert_exporter": "python",
   "pygments_lexer": "ipython3",
   "version": "3.7.6"
  }
 },
 "nbformat": 4,
 "nbformat_minor": 4
}
