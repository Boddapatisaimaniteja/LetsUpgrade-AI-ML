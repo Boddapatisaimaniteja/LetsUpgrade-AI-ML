{
 "cells": [
  {
   "cell_type": "markdown",
   "metadata": {},
   "source": [
    "# DAY 5 ASSIGNMENT"
   ]
  },
  {
   "cell_type": "markdown",
   "metadata": {},
   "source": [
    "# 1:Write a Python program to find the first 20 non-even prime natural numbers.\n"
   ]
  },
  {
   "cell_type": "code",
   "execution_count": 7,
   "metadata": {},
   "outputs": [
    {
     "name": "stdout",
     "output_type": "stream",
     "text": [
      "3\n",
      "5\n",
      "7\n",
      "11\n",
      "13\n",
      "17\n",
      "19\n",
      "23\n",
      "29\n",
      "31\n",
      "37\n",
      "41\n",
      "43\n",
      "47\n",
      "53\n",
      "59\n",
      "61\n",
      "67\n",
      "71\n",
      "73\n"
     ]
    }
   ],
   "source": [
    "def checkprime(h):\n",
    "    k=0\n",
    "    for i in range(1,h+1):\n",
    "        if(h%i==0):\n",
    "            k=k+1\n",
    "    if k==2:\n",
    "        return True\n",
    "c=0\n",
    "i=3\n",
    "while(c!=20):\n",
    "    if checkprime(i)==True:\n",
    "        print(i)\n",
    "        c=c+1\n",
    "    i=i+1\n",
    "      \n"
   ]
  },
  {
   "cell_type": "markdown",
   "metadata": {},
   "source": [
    "# 2:Write a Python program to implement 15 functions of string."
   ]
  },
  {
   "cell_type": "code",
   "execution_count": 25,
   "metadata": {},
   "outputs": [
    {
     "name": "stdout",
     "output_type": "stream",
     "text": [
      "['today', 'is', 'saturaday']\n",
      "TODAY IS SATURADAY\n",
      "today is saturaday\n",
      "todey is seturedey\n",
      "3\n",
      "2\n",
      "True\n",
      "True\n",
      "Today is saturaday\n",
      "18\n",
      "is \n",
      "today is saturadaykk\n",
      "manmanman\n",
      "man\u0000\n",
      "<class 'str'>\n"
     ]
    }
   ],
   "source": [
    "#1.SPLIT()\n",
    "s=\"today is saturaday\"\n",
    "print(s.split(\" \"))\n",
    "#2.upper()\n",
    "print(s.upper())\n",
    "#3.lower()\n",
    "print(s.lower())\n",
    "#4.replace\n",
    "print(s.replace('a','e'))\n",
    "#5.find\n",
    "print(s.find(\"a\"))\n",
    "#6.count\n",
    "print(s.count('s'))\n",
    "#7.startswith()\n",
    "print(s.startswith('t'))\n",
    "#8.endswith()\n",
    "print(s.endswith('y'))\n",
    "#9.capitalize()\n",
    "print(s.capitalize())\n",
    "#10.len()\n",
    "print(len(s))\n",
    "#11.slice()\n",
    "print(s[6:9])\n",
    "#12.concatination(+)\n",
    "print(s+\"kk\")\n",
    "#13.repetition(*)\n",
    "print(\"man\"*3)\n",
    "#14:strip()\n",
    "f=\"man\\0\"\n",
    "print(f.strip())\n",
    "#15:type()\n",
    "print(type(s))"
   ]
  },
  {
   "cell_type": "markdown",
   "metadata": {},
   "source": [
    "# 3:Write a Python program to check if the given string is a Palindrome or Anagram or None of them.Display the message accordingly to the user."
   ]
  },
  {
   "cell_type": "code",
   "execution_count": 28,
   "metadata": {},
   "outputs": [
    {
     "name": "stdout",
     "output_type": "stream",
     "text": [
      "lel is pallindrome\n"
     ]
    }
   ],
   "source": [
    "s=\"lel\"\n",
    "k=\"mkn\"\n",
    "if s==s[: :-1]:\n",
    "    print(s,\"is pallindrome\")\n",
    "elif k==k[: :-1]:\n",
    "    print(m,\"is pallindrome\")\n",
    "elif sorted(s)==sorted(k):\n",
    "    print(\"they are Anagram\")\n",
    "else:\n",
    "    print(\"None of these\")"
   ]
  },
  {
   "cell_type": "markdown",
   "metadata": {},
   "source": [
    "# 4:Write a Python's user defined function that removes all the additional characters from the stringand converts it finally to lower case using built-in lower(). eg: If the string is \"Dr. Darshan Ingle@AI-ML Trainer\", then the output be \"drdarshaningle aimltrainer\"."
   ]
  },
  {
   "cell_type": "code",
   "execution_count": 34,
   "metadata": {},
   "outputs": [
    {
     "name": "stdout",
     "output_type": "stream",
     "text": [
      "Dr. Darshan Ingle@AI-ML Trainer\n",
      "drdarshaningleaimltrainer"
     ]
    }
   ],
   "source": [
    "s=input().lower()\n",
    "l=['a','b','c','d','e','f','g','h','i','j','k',\n",
    "  'l','m','n','o','p','q','r','s','t','u','v','w','x','y','z']\n",
    "for i in s:\n",
    "    if i in l:\n",
    "        print(i,end=\"\")"
   ]
  },
  {
   "cell_type": "code",
   "execution_count": null,
   "metadata": {},
   "outputs": [],
   "source": []
  }
 ],
 "metadata": {
  "kernelspec": {
   "display_name": "Python 3",
   "language": "python",
   "name": "python3"
  },
  "language_info": {
   "codemirror_mode": {
    "name": "ipython",
    "version": 3
   },
   "file_extension": ".py",
   "mimetype": "text/x-python",
   "name": "python",
   "nbconvert_exporter": "python",
   "pygments_lexer": "ipython3",
   "version": "3.7.6"
  }
 },
 "nbformat": 4,
 "nbformat_minor": 4
}
